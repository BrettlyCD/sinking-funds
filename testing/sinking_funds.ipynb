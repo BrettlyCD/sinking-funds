{
 "cells": [
  {
   "attachments": {},
   "cell_type": "markdown",
   "metadata": {},
   "source": [
    "## Imports"
   ]
  },
  {
   "cell_type": "code",
   "execution_count": 224,
   "metadata": {},
   "outputs": [],
   "source": [
    "import pandas as pd\n",
    "import numpy as np\n",
    "import json\n",
    "import datetime\n",
    "from dateutil import parser\n",
    "from dateutil.relativedelta import relativedelta"
   ]
  },
  {
   "cell_type": "code",
   "execution_count": 225,
   "metadata": {},
   "outputs": [],
   "source": [
    "#Load excel data\n",
    "exp = pd.json_normalize(pd.read_json('../data/exp.json')['expenses'])"
   ]
  },
  {
   "cell_type": "code",
   "execution_count": 226,
   "metadata": {},
   "outputs": [
    {
     "data": {
      "text/html": [
       "<div>\n",
       "<style scoped>\n",
       "    .dataframe tbody tr th:only-of-type {\n",
       "        vertical-align: middle;\n",
       "    }\n",
       "\n",
       "    .dataframe tbody tr th {\n",
       "        vertical-align: top;\n",
       "    }\n",
       "\n",
       "    .dataframe thead th {\n",
       "        text-align: right;\n",
       "    }\n",
       "</style>\n",
       "<table border=\"1\" class=\"dataframe\">\n",
       "  <thead>\n",
       "    <tr style=\"text-align: right;\">\n",
       "      <th></th>\n",
       "      <th>title</th>\n",
       "      <th>cadence</th>\n",
       "      <th>date_added</th>\n",
       "      <th>first_due</th>\n",
       "      <th>amount</th>\n",
       "    </tr>\n",
       "  </thead>\n",
       "  <tbody>\n",
       "    <tr>\n",
       "      <th>0</th>\n",
       "      <td>After Shave</td>\n",
       "      <td>4.0</td>\n",
       "      <td>2023-06-03</td>\n",
       "      <td>2023-09-30</td>\n",
       "      <td>1700.0</td>\n",
       "    </tr>\n",
       "  </tbody>\n",
       "</table>\n",
       "</div>"
      ],
      "text/plain": [
       "         title  cadence  date_added   first_due  amount\n",
       "0  After Shave      4.0  2023-06-03  2023-09-30  1700.0"
      ]
     },
     "execution_count": 226,
     "metadata": {},
     "output_type": "execute_result"
    }
   ],
   "source": [
    "exp"
   ]
  },
  {
   "cell_type": "code",
   "execution_count": 227,
   "metadata": {},
   "outputs": [
    {
     "name": "stdout",
     "output_type": "stream",
     "text": [
      "<class 'pandas.core.frame.DataFrame'>\n",
      "RangeIndex: 1 entries, 0 to 0\n",
      "Data columns (total 5 columns):\n",
      " #   Column      Non-Null Count  Dtype  \n",
      "---  ------      --------------  -----  \n",
      " 0   title       1 non-null      object \n",
      " 1   cadence     1 non-null      float64\n",
      " 2   date_added  1 non-null      object \n",
      " 3   first_due   1 non-null      object \n",
      " 4   amount      1 non-null      float64\n",
      "dtypes: float64(2), object(3)\n",
      "memory usage: 168.0+ bytes\n"
     ]
    }
   ],
   "source": [
    "#Check dtypes and update if needed\n",
    "exp.info()"
   ]
  },
  {
   "cell_type": "code",
   "execution_count": 228,
   "metadata": {},
   "outputs": [
    {
     "name": "stdout",
     "output_type": "stream",
     "text": [
      "<class 'pandas.core.frame.DataFrame'>\n",
      "RangeIndex: 1 entries, 0 to 0\n",
      "Data columns (total 5 columns):\n",
      " #   Column      Non-Null Count  Dtype         \n",
      "---  ------      --------------  -----         \n",
      " 0   title       1 non-null      object        \n",
      " 1   cadence     1 non-null      float64       \n",
      " 2   date_added  1 non-null      datetime64[ns]\n",
      " 3   first_due   1 non-null      datetime64[ns]\n",
      " 4   amount      1 non-null      float64       \n",
      "dtypes: datetime64[ns](2), float64(2), object(1)\n",
      "memory usage: 168.0+ bytes\n"
     ]
    }
   ],
   "source": [
    "#conver to datetime\n",
    "exp['date_added'] = pd.to_datetime(exp['date_added'], format='%Y-%m-%d')\n",
    "exp['first_due'] = pd.to_datetime(exp['first_due'], format='%Y-%m-%d')\n",
    "\n",
    "exp.info()"
   ]
  },
  {
   "attachments": {},
   "cell_type": "markdown",
   "metadata": {},
   "source": [
    "Nice!\n",
    "\n",
    "Let's now calculate the next payment date. But first i'll add a count of the tracked months for reporting purposes.\n",
    "https://stackoverflow.com/questions/30328427/add-months-to-a-datetime-column-in-pandas"
   ]
  },
  {
   "cell_type": "code",
   "execution_count": 229,
   "metadata": {},
   "outputs": [],
   "source": [
    "#create a field that calculates the month in which you should've been saving since the last disbursement\n",
    "exp['tracked_months'] = (((datetime.datetime.today().year-exp.date_added.dt.year)*12) + ((datetime.datetime.today().month-exp.date_added.dt.month))).astype(int)"
   ]
  },
  {
   "cell_type": "code",
   "execution_count": 230,
   "metadata": {},
   "outputs": [
    {
     "data": {
      "text/html": [
       "<div>\n",
       "<style scoped>\n",
       "    .dataframe tbody tr th:only-of-type {\n",
       "        vertical-align: middle;\n",
       "    }\n",
       "\n",
       "    .dataframe tbody tr th {\n",
       "        vertical-align: top;\n",
       "    }\n",
       "\n",
       "    .dataframe thead th {\n",
       "        text-align: right;\n",
       "    }\n",
       "</style>\n",
       "<table border=\"1\" class=\"dataframe\">\n",
       "  <thead>\n",
       "    <tr style=\"text-align: right;\">\n",
       "      <th></th>\n",
       "      <th>title</th>\n",
       "      <th>cadence</th>\n",
       "      <th>date_added</th>\n",
       "      <th>first_due</th>\n",
       "      <th>amount</th>\n",
       "      <th>tracked_months</th>\n",
       "    </tr>\n",
       "  </thead>\n",
       "  <tbody>\n",
       "    <tr>\n",
       "      <th>0</th>\n",
       "      <td>After Shave</td>\n",
       "      <td>4.0</td>\n",
       "      <td>2023-06-03</td>\n",
       "      <td>2023-09-30</td>\n",
       "      <td>1700.0</td>\n",
       "      <td>0</td>\n",
       "    </tr>\n",
       "  </tbody>\n",
       "</table>\n",
       "</div>"
      ],
      "text/plain": [
       "         title  cadence date_added  first_due  amount  tracked_months\n",
       "0  After Shave      4.0 2023-06-03 2023-09-30  1700.0               0"
      ]
     },
     "execution_count": 230,
     "metadata": {},
     "output_type": "execute_result"
    }
   ],
   "source": [
    "exp"
   ]
  },
  {
   "attachments": {},
   "cell_type": "markdown",
   "metadata": {},
   "source": [
    "### Create a Last Disbursed Date Calculation\n",
    "\n",
    "I'll do this with a while loop through each row"
   ]
  },
  {
   "cell_type": "code",
   "execution_count": 231,
   "metadata": {},
   "outputs": [],
   "source": [
    "last_paid = []\n",
    "for index, row in exp.iterrows():\n",
    "    payment_date = row['first_due']\n",
    "    if payment_date >= datetime.datetime.today():\n",
    "        last_paid.append(np.nan) \n",
    "    else:\n",
    "        #while ((datetime.datetime.today()-payment_date)/np.timedelta64(1, 'M')) > row['cadence']:\n",
    "        while (((datetime.datetime.today().year-payment_date.dt.year)*12) + ((datetime.datetime.today().month-payment_date.dt.month))) > row['cadence']:\n",
    "            payment_date += relativedelta(months=row['cadence'])\n",
    "        last_paid.append(payment_date)"
   ]
  },
  {
   "cell_type": "code",
   "execution_count": 232,
   "metadata": {},
   "outputs": [],
   "source": [
    "exp['last_disbursed']  = last_paid"
   ]
  },
  {
   "cell_type": "code",
   "execution_count": 233,
   "metadata": {},
   "outputs": [],
   "source": [
    "#update dtype to datetime for future formula usage\n",
    "exp['last_disbursed'] = pd.to_datetime(exp['last_disbursed'], format='%m,%d,%Y')"
   ]
  },
  {
   "cell_type": "code",
   "execution_count": 234,
   "metadata": {},
   "outputs": [
    {
     "data": {
      "text/html": [
       "<div>\n",
       "<style scoped>\n",
       "    .dataframe tbody tr th:only-of-type {\n",
       "        vertical-align: middle;\n",
       "    }\n",
       "\n",
       "    .dataframe tbody tr th {\n",
       "        vertical-align: top;\n",
       "    }\n",
       "\n",
       "    .dataframe thead th {\n",
       "        text-align: right;\n",
       "    }\n",
       "</style>\n",
       "<table border=\"1\" class=\"dataframe\">\n",
       "  <thead>\n",
       "    <tr style=\"text-align: right;\">\n",
       "      <th></th>\n",
       "      <th>title</th>\n",
       "      <th>cadence</th>\n",
       "      <th>date_added</th>\n",
       "      <th>first_due</th>\n",
       "      <th>amount</th>\n",
       "      <th>tracked_months</th>\n",
       "      <th>last_disbursed</th>\n",
       "    </tr>\n",
       "  </thead>\n",
       "  <tbody>\n",
       "    <tr>\n",
       "      <th>0</th>\n",
       "      <td>After Shave</td>\n",
       "      <td>4.0</td>\n",
       "      <td>2023-06-03</td>\n",
       "      <td>2023-09-30</td>\n",
       "      <td>1700.0</td>\n",
       "      <td>0</td>\n",
       "      <td>NaT</td>\n",
       "    </tr>\n",
       "  </tbody>\n",
       "</table>\n",
       "</div>"
      ],
      "text/plain": [
       "         title  cadence date_added  first_due  amount  tracked_months  \\\n",
       "0  After Shave      4.0 2023-06-03 2023-09-30  1700.0               0   \n",
       "\n",
       "  last_disbursed  \n",
       "0            NaT  "
      ]
     },
     "execution_count": 234,
     "metadata": {},
     "output_type": "execute_result"
    }
   ],
   "source": [
    "exp"
   ]
  },
  {
   "attachments": {},
   "cell_type": "markdown",
   "metadata": {},
   "source": [
    "### Create a Next Due Date Calculation\n",
    "\n",
    "I'll do this with a while loop through each row"
   ]
  },
  {
   "cell_type": "code",
   "execution_count": 235,
   "metadata": {},
   "outputs": [],
   "source": [
    "due_dates = []\n",
    "for index, row in exp.iterrows():\n",
    "    next_date = row['first_due']\n",
    "    while next_date < datetime.datetime.today():\n",
    "        next_date += relativedelta(months=row['cadence'])\n",
    "    due_dates.append(next_date)"
   ]
  },
  {
   "cell_type": "code",
   "execution_count": 236,
   "metadata": {},
   "outputs": [],
   "source": [
    "exp['due_next'] = due_dates"
   ]
  },
  {
   "cell_type": "code",
   "execution_count": 237,
   "metadata": {},
   "outputs": [
    {
     "data": {
      "text/html": [
       "<div>\n",
       "<style scoped>\n",
       "    .dataframe tbody tr th:only-of-type {\n",
       "        vertical-align: middle;\n",
       "    }\n",
       "\n",
       "    .dataframe tbody tr th {\n",
       "        vertical-align: top;\n",
       "    }\n",
       "\n",
       "    .dataframe thead th {\n",
       "        text-align: right;\n",
       "    }\n",
       "</style>\n",
       "<table border=\"1\" class=\"dataframe\">\n",
       "  <thead>\n",
       "    <tr style=\"text-align: right;\">\n",
       "      <th></th>\n",
       "      <th>title</th>\n",
       "      <th>cadence</th>\n",
       "      <th>date_added</th>\n",
       "      <th>first_due</th>\n",
       "      <th>amount</th>\n",
       "      <th>tracked_months</th>\n",
       "      <th>last_disbursed</th>\n",
       "      <th>due_next</th>\n",
       "    </tr>\n",
       "  </thead>\n",
       "  <tbody>\n",
       "    <tr>\n",
       "      <th>0</th>\n",
       "      <td>After Shave</td>\n",
       "      <td>4.0</td>\n",
       "      <td>2023-06-03</td>\n",
       "      <td>2023-09-30</td>\n",
       "      <td>1700.0</td>\n",
       "      <td>0</td>\n",
       "      <td>NaT</td>\n",
       "      <td>2023-09-30</td>\n",
       "    </tr>\n",
       "  </tbody>\n",
       "</table>\n",
       "</div>"
      ],
      "text/plain": [
       "         title  cadence date_added  first_due  amount  tracked_months  \\\n",
       "0  After Shave      4.0 2023-06-03 2023-09-30  1700.0               0   \n",
       "\n",
       "  last_disbursed   due_next  \n",
       "0            NaT 2023-09-30  "
      ]
     },
     "execution_count": 237,
     "metadata": {},
     "output_type": "execute_result"
    }
   ],
   "source": [
    "exp"
   ]
  },
  {
   "attachments": {},
   "cell_type": "markdown",
   "metadata": {},
   "source": [
    "Now I'll calculate the months between next payment"
   ]
  },
  {
   "cell_type": "code",
   "execution_count": 238,
   "metadata": {},
   "outputs": [],
   "source": [
    "#exp['months_till_due'] = ((exp.due_next - datetime.datetime.today())/np.timedelta64(1, 'M')+1).astype(int)\n",
    "exp['months_till_due'] = (((exp.due_next.dt.year-exp.date_added.dt.year)*12) + ((exp.due_next.dt.month-exp.date_added.dt.month))).astype(int)"
   ]
  },
  {
   "cell_type": "code",
   "execution_count": 239,
   "metadata": {},
   "outputs": [
    {
     "data": {
      "text/html": [
       "<div>\n",
       "<style scoped>\n",
       "    .dataframe tbody tr th:only-of-type {\n",
       "        vertical-align: middle;\n",
       "    }\n",
       "\n",
       "    .dataframe tbody tr th {\n",
       "        vertical-align: top;\n",
       "    }\n",
       "\n",
       "    .dataframe thead th {\n",
       "        text-align: right;\n",
       "    }\n",
       "</style>\n",
       "<table border=\"1\" class=\"dataframe\">\n",
       "  <thead>\n",
       "    <tr style=\"text-align: right;\">\n",
       "      <th></th>\n",
       "      <th>title</th>\n",
       "      <th>cadence</th>\n",
       "      <th>date_added</th>\n",
       "      <th>first_due</th>\n",
       "      <th>amount</th>\n",
       "      <th>tracked_months</th>\n",
       "      <th>last_disbursed</th>\n",
       "      <th>due_next</th>\n",
       "      <th>months_till_due</th>\n",
       "    </tr>\n",
       "  </thead>\n",
       "  <tbody>\n",
       "    <tr>\n",
       "      <th>0</th>\n",
       "      <td>After Shave</td>\n",
       "      <td>4.0</td>\n",
       "      <td>2023-06-03</td>\n",
       "      <td>2023-09-30</td>\n",
       "      <td>1700.0</td>\n",
       "      <td>0</td>\n",
       "      <td>NaT</td>\n",
       "      <td>2023-09-30</td>\n",
       "      <td>3</td>\n",
       "    </tr>\n",
       "  </tbody>\n",
       "</table>\n",
       "</div>"
      ],
      "text/plain": [
       "         title  cadence date_added  first_due  amount  tracked_months  \\\n",
       "0  After Shave      4.0 2023-06-03 2023-09-30  1700.0               0   \n",
       "\n",
       "  last_disbursed   due_next  months_till_due  \n",
       "0            NaT 2023-09-30                3  "
      ]
     },
     "execution_count": 239,
     "metadata": {},
     "output_type": "execute_result"
    }
   ],
   "source": [
    "exp"
   ]
  },
  {
   "attachments": {},
   "cell_type": "markdown",
   "metadata": {},
   "source": [
    "Now calculate the monthly savings. There will be a differnce though for the items in which we save for the whole cadence vs. those we add with less time than the cadence. so I'll flag it if we have a full 12 months (as an example) to save vs. only 3 months left of the 12 in which we started saving. I think we need a \"months to save\" field"
   ]
  },
  {
   "cell_type": "code",
   "execution_count": 240,
   "metadata": {},
   "outputs": [],
   "source": [
    "#updating this to not if false use months till due, but to the lesser of the cadence or the recalculated months from starting tracking to having to pay. Adding +1 to include the starting month.\n",
    "exp['months_to_save'] = np.where(exp['tracked_months'] >= exp['cadence'], exp['cadence'], (((exp.due_next.dt.year-exp.date_added.dt.year)*12) + ((exp.due_next.dt.month-exp.date_added.dt.month))+1).astype(int))"
   ]
  },
  {
   "cell_type": "code",
   "execution_count": 241,
   "metadata": {},
   "outputs": [
    {
     "data": {
      "text/html": [
       "<div>\n",
       "<style scoped>\n",
       "    .dataframe tbody tr th:only-of-type {\n",
       "        vertical-align: middle;\n",
       "    }\n",
       "\n",
       "    .dataframe tbody tr th {\n",
       "        vertical-align: top;\n",
       "    }\n",
       "\n",
       "    .dataframe thead th {\n",
       "        text-align: right;\n",
       "    }\n",
       "</style>\n",
       "<table border=\"1\" class=\"dataframe\">\n",
       "  <thead>\n",
       "    <tr style=\"text-align: right;\">\n",
       "      <th></th>\n",
       "      <th>title</th>\n",
       "      <th>cadence</th>\n",
       "      <th>date_added</th>\n",
       "      <th>first_due</th>\n",
       "      <th>amount</th>\n",
       "      <th>tracked_months</th>\n",
       "      <th>last_disbursed</th>\n",
       "      <th>due_next</th>\n",
       "      <th>months_till_due</th>\n",
       "      <th>months_to_save</th>\n",
       "    </tr>\n",
       "  </thead>\n",
       "  <tbody>\n",
       "    <tr>\n",
       "      <th>0</th>\n",
       "      <td>After Shave</td>\n",
       "      <td>4.0</td>\n",
       "      <td>2023-06-03</td>\n",
       "      <td>2023-09-30</td>\n",
       "      <td>1700.0</td>\n",
       "      <td>0</td>\n",
       "      <td>NaT</td>\n",
       "      <td>2023-09-30</td>\n",
       "      <td>3</td>\n",
       "      <td>4.0</td>\n",
       "    </tr>\n",
       "  </tbody>\n",
       "</table>\n",
       "</div>"
      ],
      "text/plain": [
       "         title  cadence date_added  first_due  amount  tracked_months  \\\n",
       "0  After Shave      4.0 2023-06-03 2023-09-30  1700.0               0   \n",
       "\n",
       "  last_disbursed   due_next  months_till_due  months_to_save  \n",
       "0            NaT 2023-09-30                3             4.0  "
      ]
     },
     "execution_count": 241,
     "metadata": {},
     "output_type": "execute_result"
    }
   ],
   "source": [
    "exp"
   ]
  },
  {
   "cell_type": "code",
   "execution_count": 242,
   "metadata": {},
   "outputs": [],
   "source": [
    "exp['monthly_sinking'] = round(exp['amount'] / exp['months_to_save'],2)\n",
    "exp.replace([np.inf, -np.inf], np.nan, inplace=True)"
   ]
  },
  {
   "cell_type": "code",
   "execution_count": 243,
   "metadata": {},
   "outputs": [
    {
     "data": {
      "text/html": [
       "<div>\n",
       "<style scoped>\n",
       "    .dataframe tbody tr th:only-of-type {\n",
       "        vertical-align: middle;\n",
       "    }\n",
       "\n",
       "    .dataframe tbody tr th {\n",
       "        vertical-align: top;\n",
       "    }\n",
       "\n",
       "    .dataframe thead th {\n",
       "        text-align: right;\n",
       "    }\n",
       "</style>\n",
       "<table border=\"1\" class=\"dataframe\">\n",
       "  <thead>\n",
       "    <tr style=\"text-align: right;\">\n",
       "      <th></th>\n",
       "      <th>title</th>\n",
       "      <th>cadence</th>\n",
       "      <th>date_added</th>\n",
       "      <th>first_due</th>\n",
       "      <th>amount</th>\n",
       "      <th>tracked_months</th>\n",
       "      <th>last_disbursed</th>\n",
       "      <th>due_next</th>\n",
       "      <th>months_till_due</th>\n",
       "      <th>months_to_save</th>\n",
       "      <th>monthly_sinking</th>\n",
       "    </tr>\n",
       "  </thead>\n",
       "  <tbody>\n",
       "    <tr>\n",
       "      <th>0</th>\n",
       "      <td>After Shave</td>\n",
       "      <td>4.0</td>\n",
       "      <td>2023-06-03</td>\n",
       "      <td>2023-09-30</td>\n",
       "      <td>1700.0</td>\n",
       "      <td>0</td>\n",
       "      <td>NaT</td>\n",
       "      <td>2023-09-30</td>\n",
       "      <td>3</td>\n",
       "      <td>4.0</td>\n",
       "      <td>425.0</td>\n",
       "    </tr>\n",
       "  </tbody>\n",
       "</table>\n",
       "</div>"
      ],
      "text/plain": [
       "         title  cadence date_added  first_due  amount  tracked_months  \\\n",
       "0  After Shave      4.0 2023-06-03 2023-09-30  1700.0               0   \n",
       "\n",
       "  last_disbursed   due_next  months_till_due  months_to_save  monthly_sinking  \n",
       "0            NaT 2023-09-30                3             4.0            425.0  "
      ]
     },
     "execution_count": 243,
     "metadata": {},
     "output_type": "execute_result"
    }
   ],
   "source": [
    "exp"
   ]
  },
  {
   "attachments": {},
   "cell_type": "markdown",
   "metadata": {},
   "source": [
    "Now I need to come up with a formula that calculates how much should be saved after your deposit this month based on how many months you should've saved since the last disbursement (or since you started tracking if no disbursement yet.)\n"
   ]
  },
  {
   "cell_type": "code",
   "execution_count": 244,
   "metadata": {},
   "outputs": [],
   "source": [
    "#exp['current_buildup'] = np.where(exp['last_disbursed'] == 0, exp['tracked_months'], ((datetime.datetime.today()-exp.last_disbursed)/np.timedelta64(1, 'M')))\n",
    "exp['current_buildup'] = np.where(exp['last_disbursed'].isnull(), exp['tracked_months'], (((datetime.datetime.today().year-exp.last_disbursed.dt.year)*12) + ((datetime.datetime.today().month-exp.last_disbursed.dt.month))))"
   ]
  },
  {
   "cell_type": "code",
   "execution_count": 245,
   "metadata": {},
   "outputs": [],
   "source": [
    "#convert to an integer format so it will round down to get the exact # of months.\n",
    "#using fillna here to make it possible to convert if there are any NaNs\n",
    "exp['current_buildup'] = exp['current_buildup'].fillna(0).astype(int)\n"
   ]
  },
  {
   "cell_type": "code",
   "execution_count": 246,
   "metadata": {},
   "outputs": [
    {
     "data": {
      "text/html": [
       "<div>\n",
       "<style scoped>\n",
       "    .dataframe tbody tr th:only-of-type {\n",
       "        vertical-align: middle;\n",
       "    }\n",
       "\n",
       "    .dataframe tbody tr th {\n",
       "        vertical-align: top;\n",
       "    }\n",
       "\n",
       "    .dataframe thead th {\n",
       "        text-align: right;\n",
       "    }\n",
       "</style>\n",
       "<table border=\"1\" class=\"dataframe\">\n",
       "  <thead>\n",
       "    <tr style=\"text-align: right;\">\n",
       "      <th></th>\n",
       "      <th>title</th>\n",
       "      <th>cadence</th>\n",
       "      <th>date_added</th>\n",
       "      <th>first_due</th>\n",
       "      <th>amount</th>\n",
       "      <th>tracked_months</th>\n",
       "      <th>last_disbursed</th>\n",
       "      <th>due_next</th>\n",
       "      <th>months_till_due</th>\n",
       "      <th>months_to_save</th>\n",
       "      <th>monthly_sinking</th>\n",
       "      <th>current_buildup</th>\n",
       "    </tr>\n",
       "  </thead>\n",
       "  <tbody>\n",
       "    <tr>\n",
       "      <th>0</th>\n",
       "      <td>After Shave</td>\n",
       "      <td>4.0</td>\n",
       "      <td>2023-06-03</td>\n",
       "      <td>2023-09-30</td>\n",
       "      <td>1700.0</td>\n",
       "      <td>0</td>\n",
       "      <td>NaT</td>\n",
       "      <td>2023-09-30</td>\n",
       "      <td>3</td>\n",
       "      <td>4.0</td>\n",
       "      <td>425.0</td>\n",
       "      <td>0</td>\n",
       "    </tr>\n",
       "  </tbody>\n",
       "</table>\n",
       "</div>"
      ],
      "text/plain": [
       "         title  cadence date_added  first_due  amount  tracked_months  \\\n",
       "0  After Shave      4.0 2023-06-03 2023-09-30  1700.0               0   \n",
       "\n",
       "  last_disbursed   due_next  months_till_due  months_to_save  monthly_sinking  \\\n",
       "0            NaT 2023-09-30                3             4.0            425.0   \n",
       "\n",
       "   current_buildup  \n",
       "0                0  "
      ]
     },
     "execution_count": 246,
     "metadata": {},
     "output_type": "execute_result"
    }
   ],
   "source": [
    "exp"
   ]
  },
  {
   "attachments": {},
   "cell_type": "markdown",
   "metadata": {},
   "source": [
    "Now we know how many months of savings we should have done since our last disbursement in each category so let's calculate what the total balance should be as of the last transfer to savings. I'll then calculate a final balance after transfer."
   ]
  },
  {
   "cell_type": "code",
   "execution_count": 247,
   "metadata": {},
   "outputs": [],
   "source": [
    "exp['exp_current_balance'] = exp['current_buildup'] * exp['monthly_sinking']"
   ]
  },
  {
   "cell_type": "code",
   "execution_count": 248,
   "metadata": {},
   "outputs": [
    {
     "data": {
      "text/html": [
       "<div>\n",
       "<style scoped>\n",
       "    .dataframe tbody tr th:only-of-type {\n",
       "        vertical-align: middle;\n",
       "    }\n",
       "\n",
       "    .dataframe tbody tr th {\n",
       "        vertical-align: top;\n",
       "    }\n",
       "\n",
       "    .dataframe thead th {\n",
       "        text-align: right;\n",
       "    }\n",
       "</style>\n",
       "<table border=\"1\" class=\"dataframe\">\n",
       "  <thead>\n",
       "    <tr style=\"text-align: right;\">\n",
       "      <th></th>\n",
       "      <th>title</th>\n",
       "      <th>cadence</th>\n",
       "      <th>date_added</th>\n",
       "      <th>first_due</th>\n",
       "      <th>amount</th>\n",
       "      <th>tracked_months</th>\n",
       "      <th>last_disbursed</th>\n",
       "      <th>due_next</th>\n",
       "      <th>months_till_due</th>\n",
       "      <th>months_to_save</th>\n",
       "      <th>monthly_sinking</th>\n",
       "      <th>current_buildup</th>\n",
       "      <th>exp_current_balance</th>\n",
       "    </tr>\n",
       "  </thead>\n",
       "  <tbody>\n",
       "    <tr>\n",
       "      <th>0</th>\n",
       "      <td>After Shave</td>\n",
       "      <td>4.0</td>\n",
       "      <td>2023-06-03</td>\n",
       "      <td>2023-09-30</td>\n",
       "      <td>1700.0</td>\n",
       "      <td>0</td>\n",
       "      <td>NaT</td>\n",
       "      <td>2023-09-30</td>\n",
       "      <td>3</td>\n",
       "      <td>4.0</td>\n",
       "      <td>425.0</td>\n",
       "      <td>0</td>\n",
       "      <td>0.0</td>\n",
       "    </tr>\n",
       "  </tbody>\n",
       "</table>\n",
       "</div>"
      ],
      "text/plain": [
       "         title  cadence date_added  first_due  amount  tracked_months  \\\n",
       "0  After Shave      4.0 2023-06-03 2023-09-30  1700.0               0   \n",
       "\n",
       "  last_disbursed   due_next  months_till_due  months_to_save  monthly_sinking  \\\n",
       "0            NaT 2023-09-30                3             4.0            425.0   \n",
       "\n",
       "   current_buildup  exp_current_balance  \n",
       "0                0                  0.0  "
      ]
     },
     "execution_count": 248,
     "metadata": {},
     "output_type": "execute_result"
    }
   ],
   "source": [
    "exp"
   ]
  },
  {
   "attachments": {},
   "cell_type": "markdown",
   "metadata": {},
   "source": [
    "Now that that's there, I want to create a column that calculates the disbursement (if there is one in the current month) as a negative value. I'll then combine that into a 'final_target' with expected_savings + monthly_needed - disbursement = final value."
   ]
  },
  {
   "cell_type": "code",
   "execution_count": 249,
   "metadata": {},
   "outputs": [],
   "source": [
    "exp['current_period_disburse'] = np.where((exp['due_next'].dt.month == datetime.datetime.today().month) & (exp['due_next'].dt.year == datetime.datetime.today().year), -exp['amount'], 0)"
   ]
  },
  {
   "cell_type": "code",
   "execution_count": 250,
   "metadata": {},
   "outputs": [
    {
     "data": {
      "text/html": [
       "<div>\n",
       "<style scoped>\n",
       "    .dataframe tbody tr th:only-of-type {\n",
       "        vertical-align: middle;\n",
       "    }\n",
       "\n",
       "    .dataframe tbody tr th {\n",
       "        vertical-align: top;\n",
       "    }\n",
       "\n",
       "    .dataframe thead th {\n",
       "        text-align: right;\n",
       "    }\n",
       "</style>\n",
       "<table border=\"1\" class=\"dataframe\">\n",
       "  <thead>\n",
       "    <tr style=\"text-align: right;\">\n",
       "      <th></th>\n",
       "      <th>title</th>\n",
       "      <th>cadence</th>\n",
       "      <th>date_added</th>\n",
       "      <th>first_due</th>\n",
       "      <th>amount</th>\n",
       "      <th>tracked_months</th>\n",
       "      <th>last_disbursed</th>\n",
       "      <th>due_next</th>\n",
       "      <th>months_till_due</th>\n",
       "      <th>months_to_save</th>\n",
       "      <th>monthly_sinking</th>\n",
       "      <th>current_buildup</th>\n",
       "      <th>exp_current_balance</th>\n",
       "      <th>current_period_disburse</th>\n",
       "    </tr>\n",
       "  </thead>\n",
       "  <tbody>\n",
       "    <tr>\n",
       "      <th>0</th>\n",
       "      <td>After Shave</td>\n",
       "      <td>4.0</td>\n",
       "      <td>2023-06-03</td>\n",
       "      <td>2023-09-30</td>\n",
       "      <td>1700.0</td>\n",
       "      <td>0</td>\n",
       "      <td>NaT</td>\n",
       "      <td>2023-09-30</td>\n",
       "      <td>3</td>\n",
       "      <td>4.0</td>\n",
       "      <td>425.0</td>\n",
       "      <td>0</td>\n",
       "      <td>0.0</td>\n",
       "      <td>0.0</td>\n",
       "    </tr>\n",
       "  </tbody>\n",
       "</table>\n",
       "</div>"
      ],
      "text/plain": [
       "         title  cadence date_added  first_due  amount  tracked_months  \\\n",
       "0  After Shave      4.0 2023-06-03 2023-09-30  1700.0               0   \n",
       "\n",
       "  last_disbursed   due_next  months_till_due  months_to_save  monthly_sinking  \\\n",
       "0            NaT 2023-09-30                3             4.0            425.0   \n",
       "\n",
       "   current_buildup  exp_current_balance  current_period_disburse  \n",
       "0                0                  0.0                      0.0  "
      ]
     },
     "execution_count": 250,
     "metadata": {},
     "output_type": "execute_result"
    }
   ],
   "source": [
    "exp"
   ]
  },
  {
   "cell_type": "code",
   "execution_count": 251,
   "metadata": {},
   "outputs": [],
   "source": [
    "#sweet! Now I'll calculate the target ending balance\n",
    "exp['target_ending_balance'] = exp['exp_current_balance'] + exp['monthly_sinking'] + exp['current_period_disburse']"
   ]
  },
  {
   "cell_type": "code",
   "execution_count": 252,
   "metadata": {},
   "outputs": [
    {
     "data": {
      "text/html": [
       "<div>\n",
       "<style scoped>\n",
       "    .dataframe tbody tr th:only-of-type {\n",
       "        vertical-align: middle;\n",
       "    }\n",
       "\n",
       "    .dataframe tbody tr th {\n",
       "        vertical-align: top;\n",
       "    }\n",
       "\n",
       "    .dataframe thead th {\n",
       "        text-align: right;\n",
       "    }\n",
       "</style>\n",
       "<table border=\"1\" class=\"dataframe\">\n",
       "  <thead>\n",
       "    <tr style=\"text-align: right;\">\n",
       "      <th></th>\n",
       "      <th>title</th>\n",
       "      <th>cadence</th>\n",
       "      <th>date_added</th>\n",
       "      <th>first_due</th>\n",
       "      <th>amount</th>\n",
       "      <th>tracked_months</th>\n",
       "      <th>last_disbursed</th>\n",
       "      <th>due_next</th>\n",
       "      <th>months_till_due</th>\n",
       "      <th>months_to_save</th>\n",
       "      <th>monthly_sinking</th>\n",
       "      <th>current_buildup</th>\n",
       "      <th>exp_current_balance</th>\n",
       "      <th>current_period_disburse</th>\n",
       "      <th>target_ending_balance</th>\n",
       "    </tr>\n",
       "  </thead>\n",
       "  <tbody>\n",
       "    <tr>\n",
       "      <th>0</th>\n",
       "      <td>After Shave</td>\n",
       "      <td>4.0</td>\n",
       "      <td>2023-06-03</td>\n",
       "      <td>2023-09-30</td>\n",
       "      <td>1700.0</td>\n",
       "      <td>0</td>\n",
       "      <td>NaT</td>\n",
       "      <td>2023-09-30</td>\n",
       "      <td>3</td>\n",
       "      <td>4.0</td>\n",
       "      <td>425.0</td>\n",
       "      <td>0</td>\n",
       "      <td>0.0</td>\n",
       "      <td>0.0</td>\n",
       "      <td>425.0</td>\n",
       "    </tr>\n",
       "  </tbody>\n",
       "</table>\n",
       "</div>"
      ],
      "text/plain": [
       "         title  cadence date_added  first_due  amount  tracked_months  \\\n",
       "0  After Shave      4.0 2023-06-03 2023-09-30  1700.0               0   \n",
       "\n",
       "  last_disbursed   due_next  months_till_due  months_to_save  monthly_sinking  \\\n",
       "0            NaT 2023-09-30                3             4.0            425.0   \n",
       "\n",
       "   current_buildup  exp_current_balance  current_period_disburse  \\\n",
       "0                0                  0.0                      0.0   \n",
       "\n",
       "   target_ending_balance  \n",
       "0                  425.0  "
      ]
     },
     "execution_count": 252,
     "metadata": {},
     "output_type": "execute_result"
    }
   ],
   "source": [
    "exp"
   ]
  },
  {
   "cell_type": "code",
   "execution_count": 253,
   "metadata": {},
   "outputs": [],
   "source": [
    "#one more column for indiviual item activity\n",
    "exp['current_month_activity'] = exp['target_ending_balance'] - exp['exp_current_balance']"
   ]
  },
  {
   "cell_type": "code",
   "execution_count": 255,
   "metadata": {},
   "outputs": [
    {
     "data": {
      "text/html": [
       "<div>\n",
       "<style scoped>\n",
       "    .dataframe tbody tr th:only-of-type {\n",
       "        vertical-align: middle;\n",
       "    }\n",
       "\n",
       "    .dataframe tbody tr th {\n",
       "        vertical-align: top;\n",
       "    }\n",
       "\n",
       "    .dataframe thead th {\n",
       "        text-align: right;\n",
       "    }\n",
       "</style>\n",
       "<table border=\"1\" class=\"dataframe\">\n",
       "  <thead>\n",
       "    <tr style=\"text-align: right;\">\n",
       "      <th></th>\n",
       "      <th>title</th>\n",
       "      <th>cadence</th>\n",
       "      <th>date_added</th>\n",
       "      <th>first_due</th>\n",
       "      <th>amount</th>\n",
       "      <th>monthly_sinking</th>\n",
       "    </tr>\n",
       "  </thead>\n",
       "  <tbody>\n",
       "    <tr>\n",
       "      <th>0</th>\n",
       "      <td>After Shave</td>\n",
       "      <td>4.0</td>\n",
       "      <td>2023-06-03</td>\n",
       "      <td>2023-09-30</td>\n",
       "      <td>1700.0</td>\n",
       "      <td>425.0</td>\n",
       "    </tr>\n",
       "  </tbody>\n",
       "</table>\n",
       "</div>"
      ],
      "text/plain": [
       "         title  cadence date_added  first_due  amount  monthly_sinking\n",
       "0  After Shave      4.0 2023-06-03 2023-09-30  1700.0            425.0"
      ]
     },
     "execution_count": 255,
     "metadata": {},
     "output_type": "execute_result"
    }
   ],
   "source": [
    "exp[['title', 'cadence','date_added','first_due','amount','monthly_sinking']]"
   ]
  },
  {
   "attachments": {},
   "cell_type": "markdown",
   "metadata": {},
   "source": []
  },
  {
   "attachments": {},
   "cell_type": "markdown",
   "metadata": {},
   "source": [
    "### Aggregation Steps\n",
    "\n",
    "Now that we have that all built out, we need some formulas that calculate the aggregate totals, and give some output to users after taking some inputs."
   ]
  },
  {
   "cell_type": "code",
   "execution_count": 134,
   "metadata": {},
   "outputs": [],
   "source": [
    "#I want a copy of this with a new cooler name\n",
    "sinking_funds = exp.copy()"
   ]
  },
  {
   "attachments": {},
   "cell_type": "markdown",
   "metadata": {},
   "source": [
    "### Add ability to say which bills are due this month."
   ]
  },
  {
   "cell_type": "code",
   "execution_count": 135,
   "metadata": {},
   "outputs": [],
   "source": [
    "due_this_month = sinking_funds[sinking_funds['current_period_disburse'] < 0][['item','due_next','amount']]"
   ]
  },
  {
   "cell_type": "code",
   "execution_count": 136,
   "metadata": {},
   "outputs": [],
   "source": [
    "due_dictionary = due_this_month.set_index('item').T.to_dict('list')"
   ]
  },
  {
   "cell_type": "code",
   "execution_count": 137,
   "metadata": {},
   "outputs": [
    {
     "data": {
      "text/plain": [
       "{'Example (delete)': [Timestamp('2023-06-30 00:00:00'), 60]}"
      ]
     },
     "execution_count": 137,
     "metadata": {},
     "output_type": "execute_result"
    }
   ],
   "source": [
    "due_dictionary"
   ]
  },
  {
   "cell_type": "code",
   "execution_count": 138,
   "metadata": {},
   "outputs": [
    {
     "name": "stdout",
     "output_type": "stream",
     "text": [
      "Example (delete) is due on 06-30-2023 : $ 60.00\n"
     ]
    }
   ],
   "source": [
    "for key, value in due_dictionary.items():\n",
    "    print(key, 'is due on', value[0].strftime('%m-%d-%Y'), ': $', str(\"{:.2f}\".format(value[1])))"
   ]
  },
  {
   "attachments": {},
   "cell_type": "markdown",
   "metadata": {},
   "source": [
    "### Setup way for user input of their actual current balance.\n",
    "\n",
    "This comes in handy when there is interest building up. That is a little bit less you have to save. Or for times in which you fall behind by a couple of months."
   ]
  },
  {
   "cell_type": "code",
   "execution_count": 139,
   "metadata": {},
   "outputs": [],
   "source": [
    "#define a function to check for a valid float input\n",
    "def valid_float(message):\n",
    "    while True:\n",
    "        try:\n",
    "            count = float(input(message))\n",
    "            if count >= 0:\n",
    "                return count\n",
    "                break\n",
    "        except:\n",
    "            print('You must input a numerical value.\\n' + message)"
   ]
  },
  {
   "cell_type": "code",
   "execution_count": 140,
   "metadata": {},
   "outputs": [],
   "source": [
    "actual_beg_balance = valid_float(\"Enter Current Sinking Funds Balance: \")"
   ]
  },
  {
   "attachments": {},
   "cell_type": "markdown",
   "metadata": {},
   "source": [
    "### Create Calculated Features and Setup Test Prints"
   ]
  },
  {
   "cell_type": "code",
   "execution_count": 141,
   "metadata": {},
   "outputs": [],
   "source": [
    "expected_beginning_balance = sinking_funds['exp_current_balance'].sum()\n",
    "current_period_savings = sinking_funds['monthly_sinking'].sum()\n",
    "current_period_disbursements = sinking_funds['current_period_disburse'].sum()\n",
    "net_period_activity = sinking_funds['current_month_activity'].sum()\n",
    "target_ending_balance = sinking_funds['target_ending_balance'].sum()\n",
    "actual_period_activity = target_ending_balance - actual_beg_balance\n",
    "balance_adj = expected_beginning_balance - actual_beg_balance"
   ]
  },
  {
   "cell_type": "code",
   "execution_count": 142,
   "metadata": {},
   "outputs": [
    {
     "name": "stdout",
     "output_type": "stream",
     "text": [
      "You're expected current balance is: $30.00.\n",
      "You're actual current balance is: $0.00.\n",
      "\n",
      "------------------------------\n",
      "You should move $0.00 from your checking account to your sinking funds balance.\n",
      "This is made up of: \n",
      "- $30.00 savings for future expenses\n",
      "- $60.00 of disbursements for current month expense\n",
      "- $30.00 of balance adjustments.\n",
      "\n",
      "------------------------------\n",
      "With these changes, your target ending balance will be: $0.00.\n"
     ]
    }
   ],
   "source": [
    "print(\"You're expected current balance is: $\" + str(\"{:.2f}\".format(expected_beginning_balance)) + \".\")\n",
    "print(\"You're actual current balance is: $\" + str(\"{:.2f}\".format(actual_beg_balance)) + \".\\n\")\n",
    "print('---'*10)\n",
    "if actual_period_activity < 0:\n",
    "    print(\"You should move $\" + str(\"{:.2f}\".format(-actual_period_activity)) + \" from your sinking funds balance to your bill-paying account.\")\n",
    "else:\n",
    "    print(\"You should move $\" + str(\"{:.2f}\".format(actual_period_activity)) + \" from your checking account to your sinking funds balance.\")\n",
    "print(\"This is made up of: \\n- $\" + str(\"{:.2f}\".format(current_period_savings)) + \" savings for future expenses\\n- $\" + str(\"{:.2f}\".format(-current_period_disbursements)) + \" of disbursements for current month expense\\n- $\"+ str(\"{:.2f}\".format(balance_adj)) + \" of balance adjustments.\\n\")\n",
    "print('---'*10)\n",
    "\n",
    "print(\"With these changes, your target ending balance will be: $\" + str(\"{:.2f}\".format(target_ending_balance)) + \".\")\n"
   ]
  },
  {
   "cell_type": "code",
   "execution_count": 143,
   "metadata": {},
   "outputs": [
    {
     "name": "stdout",
     "output_type": "stream",
     "text": [
      "-----USER SUMMARY-----\n"
     ]
    }
   ],
   "source": [
    "print(\"-\"*5 + \"USER SUMMARY\" + \"-\"*5)"
   ]
  },
  {
   "attachments": {},
   "cell_type": "markdown",
   "metadata": {},
   "source": [
    "# V2 Testing\n",
    "I want to remove excel from the equation and actually have this read/write from/to a json file. To do this we'll need to write functions for adding and removing records using user inputs.\n",
    "\n",
    "Might pivot to a sqllite database for this. If I do go json, I either need to update the key and then have a subset with teh data. or have the title in the full layer with all the data and be able to add another line to this.\n"
   ]
  },
  {
   "cell_type": "code",
   "execution_count": 144,
   "metadata": {},
   "outputs": [],
   "source": [
    "#establish possible inputs and alert\n",
    "input_options = ['A','B','C','D','E']\n",
    "alert = \"Option not available.\""
   ]
  },
  {
   "cell_type": "code",
   "execution_count": 145,
   "metadata": {},
   "outputs": [],
   "source": [
    "def valid_select(message, n_choices):\n",
    "    \"\"\"Function for testing valid user input.\"\"\"\n",
    "    while True:\n",
    "        try:\n",
    "            answer = input(message).upper()\n",
    "            if answer in input_options[:n_choices]:\n",
    "                return answer\n",
    "                break\n",
    "            else:\n",
    "                print(alert + ' Try again: ')\n",
    "        except:\n",
    "            print(alert + ' Try again: ')"
   ]
  },
  {
   "cell_type": "code",
   "execution_count": 146,
   "metadata": {},
   "outputs": [],
   "source": [
    "#valid_select(\"What would you like to do?\\nA) View Current Month Report\\nB) Add New Expense\\nC) Delete an Expense\", 4)"
   ]
  },
  {
   "cell_type": "code",
   "execution_count": 147,
   "metadata": {},
   "outputs": [],
   "source": [
    "def user_input_text(message):\n",
    "    \"Function for accepting user input of text and savings to a variable\"\n",
    "    var = str(input(message))\n",
    "    return var"
   ]
  },
  {
   "cell_type": "code",
   "execution_count": 148,
   "metadata": {},
   "outputs": [],
   "source": [
    "def valid_date(date_title):\n",
    "    \"Function for checking for valid date input\"\n",
    "    while True:\n",
    "        try:\n",
    "            year, month, day = map(int, input('Enter the ' + date_title + ' in YYYY-MM-DD format: ').split('-'))\n",
    "            input_date = datetime.date(year, month, day)\n",
    "            return input_date.strftime('%Y-%m-%d')\n",
    "            break\n",
    "        except:\n",
    "            print('Please enter in YYYY-MM-DD format: ')\n",
    "    "
   ]
  },
  {
   "cell_type": "code",
   "execution_count": 149,
   "metadata": {},
   "outputs": [],
   "source": [
    "#valid_date('Due Date')"
   ]
  },
  {
   "attachments": {},
   "cell_type": "markdown",
   "metadata": {},
   "source": [
    "### Test specifc reading"
   ]
  },
  {
   "cell_type": "code",
   "execution_count": 150,
   "metadata": {},
   "outputs": [
    {
     "data": {
      "text/plain": [
       "[]"
      ]
     },
     "execution_count": 150,
     "metadata": {},
     "output_type": "execute_result"
    }
   ],
   "source": [
    "#test reading\n",
    "with open('../data/exp.json', 'r') as f:\n",
    "    data = json.load(f)\n",
    "\n",
    "[item for item in data['expenses'] if item['title'] == 'Costco']"
   ]
  },
  {
   "attachments": {},
   "cell_type": "markdown",
   "metadata": {},
   "source": [
    "Might be able to use this code to get specific items\n",
    "[d for d in a if d['name'] == 'pluto']\n",
    "\n",
    "\n",
    "https://stackoverflow.com/questions/4391697/find-the-index-of-a-dict-within-a-list-by-matching-the-dicts-value\n",
    "\n",
    "https://stackoverflow.com/questions/4391697/find-the-index-of-a-dict-within-a-list-by-matching-the-dicts-value"
   ]
  },
  {
   "attachments": {},
   "cell_type": "markdown",
   "metadata": {},
   "source": [
    "### Test Writing New Object"
   ]
  },
  {
   "cell_type": "code",
   "execution_count": 151,
   "metadata": {},
   "outputs": [],
   "source": [
    "#sample varible with new entry\n",
    "new_entry = {'title': 'Xmas Gifts',\n",
    " 'cadence': '12',\n",
    " 'date_added': '5/27/2023',\n",
    " 'first_due': '12/31/2023',\n",
    " 'amount': '600'}"
   ]
  },
  {
   "cell_type": "code",
   "execution_count": 152,
   "metadata": {},
   "outputs": [],
   "source": [
    "#test writing to json\n",
    "with open('../data/exp.json') as f:\n",
    "    data = json.load(f)\n",
    "    temp = data[\"expenses\"]\n",
    "    temp.append(new_entry)\n",
    "    with open('../data/exp.json', 'w') as f:\n",
    "        json.dump(data, f)"
   ]
  },
  {
   "cell_type": "code",
   "execution_count": 153,
   "metadata": {},
   "outputs": [
    {
     "data": {
      "text/plain": [
       "[{'title': 'XMas Gifts',\n",
       "  'cadence': 12.0,\n",
       "  'date_added': '2023-06-03',\n",
       "  'first_due': '2023-12-31',\n",
       "  'amount': 600.0},\n",
       " {'title': 'Costco Membership',\n",
       "  'cadence': 12.0,\n",
       "  'date_added': '2023-06-03',\n",
       "  'first_due': '2023-06-30',\n",
       "  'amount': 60.0},\n",
       " {'title': 'Sunny',\n",
       "  'cadence': 12.0,\n",
       "  'date_added': '2023-06-03',\n",
       "  'first_due': '2023-12-31',\n",
       "  'amount': 10000.0},\n",
       " {'title': 'Xmas Gifts',\n",
       "  'cadence': '12',\n",
       "  'date_added': '5/27/2023',\n",
       "  'first_due': '12/31/2023',\n",
       "  'amount': 500},\n",
       " {'title': 'Costco Membership',\n",
       "  'cadence': 12.0,\n",
       "  'date_added': '2023-06-03',\n",
       "  'first_due': '2023-06-30',\n",
       "  'amount': 60.0},\n",
       " {'title': 'Xmas Gifts',\n",
       "  'cadence': '12',\n",
       "  'date_added': '5/27/2023',\n",
       "  'first_due': '12/31/2023',\n",
       "  'amount': '600'},\n",
       " {'title': 'Xmas Gifts',\n",
       "  'cadence': '12',\n",
       "  'date_added': '5/27/2023',\n",
       "  'first_due': '12/31/2023',\n",
       "  'amount': '600'}]"
      ]
     },
     "execution_count": 153,
     "metadata": {},
     "output_type": "execute_result"
    }
   ],
   "source": [
    "#read updates\n",
    "with open('../data/exp.json', 'r') as f:\n",
    "    data = json.load(f)\n",
    "    temp = data['expenses']\n",
    "\n",
    "temp"
   ]
  },
  {
   "attachments": {},
   "cell_type": "markdown",
   "metadata": {},
   "source": [
    "### Test updating specific value\n",
    "As a test we'll update our Xmas Gift fund to $500 instead of $600."
   ]
  },
  {
   "cell_type": "code",
   "execution_count": 154,
   "metadata": {},
   "outputs": [
    {
     "data": {
      "text/plain": [
       "3"
      ]
     },
     "execution_count": 154,
     "metadata": {},
     "output_type": "execute_result"
    }
   ],
   "source": [
    "#finding index #\n",
    "with open('../data/exp.json', 'r') as f:\n",
    "    data = json.load(f)\n",
    "    temp = data['expenses']\n",
    "    index = next((index for (index, d) in enumerate(temp) if d['title'] == 'Xmas Gifts'), None)\n",
    "\n",
    "index"
   ]
  },
  {
   "cell_type": "code",
   "execution_count": 155,
   "metadata": {},
   "outputs": [],
   "source": [
    "#test saving down index # and writing to\n",
    "with open('../data/exp.json') as f:\n",
    "    data = json.load(f)\n",
    "    temp = data[\"expenses\"]\n",
    "    index = next((index for (index, d) in enumerate(temp) if d['title'] == 'Xmas Gifts'), None)\n",
    "    temp[index]['amount'] = 500\n",
    "    with open('../data/exp.json', 'w') as f:\n",
    "        json.dump(data, f)"
   ]
  },
  {
   "cell_type": "code",
   "execution_count": 156,
   "metadata": {},
   "outputs": [
    {
     "data": {
      "text/plain": [
       "[{'title': 'XMas Gifts',\n",
       "  'cadence': 12.0,\n",
       "  'date_added': '2023-06-03',\n",
       "  'first_due': '2023-12-31',\n",
       "  'amount': 600.0},\n",
       " {'title': 'Costco Membership',\n",
       "  'cadence': 12.0,\n",
       "  'date_added': '2023-06-03',\n",
       "  'first_due': '2023-06-30',\n",
       "  'amount': 60.0},\n",
       " {'title': 'Sunny',\n",
       "  'cadence': 12.0,\n",
       "  'date_added': '2023-06-03',\n",
       "  'first_due': '2023-12-31',\n",
       "  'amount': 10000.0},\n",
       " {'title': 'Xmas Gifts',\n",
       "  'cadence': '12',\n",
       "  'date_added': '5/27/2023',\n",
       "  'first_due': '12/31/2023',\n",
       "  'amount': 500},\n",
       " {'title': 'Costco Membership',\n",
       "  'cadence': 12.0,\n",
       "  'date_added': '2023-06-03',\n",
       "  'first_due': '2023-06-30',\n",
       "  'amount': 60.0},\n",
       " {'title': 'Xmas Gifts',\n",
       "  'cadence': '12',\n",
       "  'date_added': '5/27/2023',\n",
       "  'first_due': '12/31/2023',\n",
       "  'amount': '600'},\n",
       " {'title': 'Xmas Gifts',\n",
       "  'cadence': '12',\n",
       "  'date_added': '5/27/2023',\n",
       "  'first_due': '12/31/2023',\n",
       "  'amount': '600'}]"
      ]
     },
     "execution_count": 156,
     "metadata": {},
     "output_type": "execute_result"
    }
   ],
   "source": [
    "#view if that worked\n",
    "#read updates\n",
    "with open('../data/exp.json', 'r') as f:\n",
    "    data = json.load(f)\n",
    "    temp = data['expenses']\n",
    "\n",
    "temp"
   ]
  },
  {
   "attachments": {},
   "cell_type": "markdown",
   "metadata": {},
   "source": [
    "### Test Deleting Item"
   ]
  },
  {
   "cell_type": "code",
   "execution_count": 157,
   "metadata": {},
   "outputs": [
    {
     "data": {
      "text/plain": [
       "[{'title': 'XMas Gifts',\n",
       "  'cadence': 12.0,\n",
       "  'date_added': '2023-06-03',\n",
       "  'first_due': '2023-12-31',\n",
       "  'amount': 600.0},\n",
       " {'title': 'Costco Membership',\n",
       "  'cadence': 12.0,\n",
       "  'date_added': '2023-06-03',\n",
       "  'first_due': '2023-06-30',\n",
       "  'amount': 60.0},\n",
       " {'title': 'Sunny',\n",
       "  'cadence': 12.0,\n",
       "  'date_added': '2023-06-03',\n",
       "  'first_due': '2023-12-31',\n",
       "  'amount': 10000.0},\n",
       " {'title': 'Xmas Gifts',\n",
       "  'cadence': '12',\n",
       "  'date_added': '5/27/2023',\n",
       "  'first_due': '12/31/2023',\n",
       "  'amount': 500},\n",
       " {'title': 'Costco Membership',\n",
       "  'cadence': 12.0,\n",
       "  'date_added': '2023-06-03',\n",
       "  'first_due': '2023-06-30',\n",
       "  'amount': 60.0},\n",
       " {'title': 'Xmas Gifts',\n",
       "  'cadence': '12',\n",
       "  'date_added': '5/27/2023',\n",
       "  'first_due': '12/31/2023',\n",
       "  'amount': '600'},\n",
       " {'title': 'Xmas Gifts',\n",
       "  'cadence': '12',\n",
       "  'date_added': '5/27/2023',\n",
       "  'first_due': '12/31/2023',\n",
       "  'amount': '600'}]"
      ]
     },
     "execution_count": 157,
     "metadata": {},
     "output_type": "execute_result"
    }
   ],
   "source": [
    "#test with read\n",
    "with open('../data/exp.json', 'r') as f:\n",
    "    data = json.load(f)\n",
    "    temp = data['expenses']\n",
    "    temp[:] = [d for d in temp if d.get('title') != 'Costco']\n",
    "\n",
    "temp"
   ]
  },
  {
   "cell_type": "code",
   "execution_count": 158,
   "metadata": {},
   "outputs": [],
   "source": [
    "#test actual delete\n",
    "\n",
    "#test saving down index # and writing to\n",
    "with open('../data/exp.json') as f:\n",
    "    data = json.load(f)\n",
    "    temp = data[\"expenses\"]\n",
    "    temp[:] = [d for d in temp if d.get('title') != 'Costco']\n",
    "    with open('../data/exp.json', 'w') as f:\n",
    "        json.dump(data, f)"
   ]
  },
  {
   "cell_type": "code",
   "execution_count": 159,
   "metadata": {},
   "outputs": [
    {
     "data": {
      "text/plain": [
       "[{'title': 'XMas Gifts',\n",
       "  'cadence': 12.0,\n",
       "  'date_added': '2023-06-03',\n",
       "  'first_due': '2023-12-31',\n",
       "  'amount': 600.0},\n",
       " {'title': 'Costco Membership',\n",
       "  'cadence': 12.0,\n",
       "  'date_added': '2023-06-03',\n",
       "  'first_due': '2023-06-30',\n",
       "  'amount': 60.0},\n",
       " {'title': 'Sunny',\n",
       "  'cadence': 12.0,\n",
       "  'date_added': '2023-06-03',\n",
       "  'first_due': '2023-12-31',\n",
       "  'amount': 10000.0},\n",
       " {'title': 'Xmas Gifts',\n",
       "  'cadence': '12',\n",
       "  'date_added': '5/27/2023',\n",
       "  'first_due': '12/31/2023',\n",
       "  'amount': 500},\n",
       " {'title': 'Costco Membership',\n",
       "  'cadence': 12.0,\n",
       "  'date_added': '2023-06-03',\n",
       "  'first_due': '2023-06-30',\n",
       "  'amount': 60.0},\n",
       " {'title': 'Xmas Gifts',\n",
       "  'cadence': '12',\n",
       "  'date_added': '5/27/2023',\n",
       "  'first_due': '12/31/2023',\n",
       "  'amount': '600'},\n",
       " {'title': 'Xmas Gifts',\n",
       "  'cadence': '12',\n",
       "  'date_added': '5/27/2023',\n",
       "  'first_due': '12/31/2023',\n",
       "  'amount': '600'}]"
      ]
     },
     "execution_count": 159,
     "metadata": {},
     "output_type": "execute_result"
    }
   ],
   "source": [
    "#view if that worked\n",
    "#read updates\n",
    "with open('../data/exp.json', 'r') as f:\n",
    "    data = json.load(f)\n",
    "    temp = data['expenses']\n",
    "\n",
    "temp"
   ]
  },
  {
   "attachments": {},
   "cell_type": "markdown",
   "metadata": {},
   "source": [
    "## Define JSON Functions"
   ]
  },
  {
   "cell_type": "code",
   "execution_count": 160,
   "metadata": {},
   "outputs": [],
   "source": [
    "#sample varible with new entry\n",
    "new_entry = {'title': 'Xmas Gifts',\n",
    " 'cadence': '12',\n",
    " 'date_added': '5/27/2023',\n",
    " 'first_due': '12/31/2023',\n",
    " 'amount': '600'}"
   ]
  },
  {
   "cell_type": "code",
   "execution_count": 161,
   "metadata": {},
   "outputs": [],
   "source": [
    "title = \"Xmas Gifts\"\n",
    "cadence = 12\n",
    "date_add = datetime.date.today().strftime('%Y-%m-%d')\n",
    "first_due = datetime.date(2023,12,31).strftime('%Y-%m-%d')\n",
    "amount = 600"
   ]
  },
  {
   "cell_type": "code",
   "execution_count": 162,
   "metadata": {},
   "outputs": [
    {
     "data": {
      "text/plain": [
       "{'title': 'Xmas Gifts',\n",
       " 'cadence': 12,\n",
       " 'date_added': '2023-06-03',\n",
       " 'first_due': '2023-12-31',\n",
       " 'amount': 600}"
      ]
     },
     "execution_count": 162,
     "metadata": {},
     "output_type": "execute_result"
    }
   ],
   "source": [
    "exp_dict = {\"title\": title, \"cadence\": cadence, \"date_added\": date_add, \"first_due\": first_due, \"amount\": amount}\n",
    "exp_dict"
   ]
  },
  {
   "attachments": {},
   "cell_type": "markdown",
   "metadata": {},
   "source": [
    "#### Adding an expense item"
   ]
  },
  {
   "cell_type": "code",
   "execution_count": 169,
   "metadata": {},
   "outputs": [],
   "source": [
    "def get_items(json_path, json_var):\n",
    "    \"Take in json variables and return the list of titles to reference in other functions.\"\n",
    "    #create list of items saved to data\n",
    "    with open(json_path) as f:\n",
    "        data = json.load(f)\n",
    "        temp = data[json_var]\n",
    "        item_list = [list(dict.values())[0] for dict in temp]\n",
    "    return item_list"
   ]
  },
  {
   "cell_type": "code",
   "execution_count": 183,
   "metadata": {},
   "outputs": [],
   "source": [
    "def exp_in_list(message, list, match_wanted):\n",
    "    \"Take a user input after a prompt and return TRUE/FALSE if it is in a given list or not\"\n",
    "    while True:\n",
    "        var = str(input(message))\n",
    "        if match_wanted == False:\n",
    "            if var in list:\n",
    "                print('This expense already exists, please choose another title: ')\n",
    "            else:\n",
    "                return var\n",
    "                break\n",
    "        else:\n",
    "            if var in list:\n",
    "                return var\n",
    "                break\n",
    "            else:\n",
    "                print('Expense not in list, please enter a valid expense: ')"
   ]
  },
  {
   "cell_type": "code",
   "execution_count": 184,
   "metadata": {},
   "outputs": [],
   "source": [
    "def add_exp(json_path, json_var):\n",
    "    \"Take user inputs, create a dictionary, and write that dictionary to a json file.\"\n",
    "\n",
    "    #setup variables for input\n",
    "    title = exp_in_list(\"Expense Title: \", get_items(json_path, json_var), False) #validate the input isn't already in the list\n",
    "    cadence = valid_float(\"Monthly cadence (every x months): \")\n",
    "    start_date = datetime.date.today().strftime('%Y-%m-%d')\n",
    "    first_due = valid_date(\"Due Date\")\n",
    "    amount = valid_float(\"How much do you want to save?: \")\n",
    "    \n",
    "    #create dictionary from variables\n",
    "    exp_dict = {\"title\": title, \"cadence\": cadence, \"date_added\": start_date, \"first_due\": first_due, \"amount\": amount}\n",
    "\n",
    "    with open(json_path) as f:\n",
    "        data = json.load(f)\n",
    "        temp = data[json_var]\n",
    "        temp.append(exp_dict)\n",
    "        with open(json_path, 'w') as f:\n",
    "            json.dump(data, f)"
   ]
  },
  {
   "cell_type": "code",
   "execution_count": 175,
   "metadata": {},
   "outputs": [
    {
     "name": "stdout",
     "output_type": "stream",
     "text": [
      "This expense already exists, please choose another title: \n"
     ]
    }
   ],
   "source": [
    "#add_exp('../data/exp.json', 'expenses')"
   ]
  },
  {
   "attachments": {},
   "cell_type": "markdown",
   "metadata": {},
   "source": [
    "#### Updating an Item"
   ]
  },
  {
   "cell_type": "code",
   "execution_count": 166,
   "metadata": {},
   "outputs": [],
   "source": [
    "#valid_item('../data/exp.json', 'expenses', \"Which expense would you like to update?: \\n\")"
   ]
  },
  {
   "cell_type": "code",
   "execution_count": 185,
   "metadata": {},
   "outputs": [],
   "source": [
    "def update_exp(json_path, json_var):\n",
    "    \"Take user inputs and update the value of their choice.\"\n",
    "    #user input validated against list of itmes\n",
    "    item_to_update = exp_in_list(\"Which expense would you like to update?: \\n\",get_items(json_path, json_var), True)\n",
    "\n",
    "    #user input on which field to update\n",
    "    field_choice = valid_select(\"Which field would you like to update?:\\nA) Title\\nB) Cadence\\nC) Date Added\\nD) First Due\\nE) Amount\", 5)\n",
    "    if field_choice == 'A':\n",
    "        field = 'title'\n",
    "    elif field_choice == 'B':\n",
    "        field = 'cadence'\n",
    "    elif field_choice == 'C':\n",
    "        field = 'date_added'\n",
    "    elif field_choice == 'D':\n",
    "        field = 'first_due'\n",
    "    elif field_choice == 'E':\n",
    "        field = 'amount'\n",
    "\n",
    "    #user input to update field, using an if statement to decice which input validation to use\n",
    "    if field == ('title'):\n",
    "        new_value = user_input_text(\"New Title: \")\n",
    "    elif field in ('cadence', 'amount'):\n",
    "        new_value = valid_float(\"New Value: \")\n",
    "    else:\n",
    "        new_value = valid_date(\"New Date: \")\n",
    "    \n",
    "    #write to JSON\n",
    "    with open(json_path) as f:\n",
    "        data = json.load(f)\n",
    "        temp = data[json_var]\n",
    "        index = next((index for (index, d) in enumerate(temp) if d['title'] == item_to_update), None)\n",
    "        temp[index][field] = new_value\n",
    "        with open('../data/exp.json', 'w') as f:\n",
    "            json.dump(data, f)"
   ]
  },
  {
   "cell_type": "code",
   "execution_count": 182,
   "metadata": {},
   "outputs": [
    {
     "name": "stdout",
     "output_type": "stream",
     "text": [
      "Expense not in list, please enter a valid expense: \n"
     ]
    }
   ],
   "source": [
    "#update_exp('../data/exp.json', 'expenses')"
   ]
  },
  {
   "attachments": {},
   "cell_type": "markdown",
   "metadata": {},
   "source": [
    "### Deleting and Item"
   ]
  },
  {
   "cell_type": "code",
   "execution_count": 194,
   "metadata": {},
   "outputs": [],
   "source": [
    "def delete_expense(json_path, json_var):\n",
    "    item_to_delete = exp_in_list(\"Which expense would you like to delete?: \\n\",get_items(json_path, json_var), True)\n",
    "    \n",
    "    with open(json_path, 'r') as f:\n",
    "        data = json.load(f)\n",
    "        temp = data[json_var]\n",
    "        temp[:] = [d for d in temp if d.get('title') != item_to_delete]\n",
    "        with open(json_path, 'w') as f:\n",
    "            json.dump(data, f)"
   ]
  },
  {
   "cell_type": "code",
   "execution_count": 188,
   "metadata": {},
   "outputs": [
    {
     "name": "stdout",
     "output_type": "stream",
     "text": [
      "Expense not in list, please enter a valid expense: \n"
     ]
    }
   ],
   "source": [
    "#delete_expense('../data/exp.json', 'expenses')"
   ]
  },
  {
   "attachments": {},
   "cell_type": "markdown",
   "metadata": {},
   "source": [
    "## Test Full Sequence of Functions"
   ]
  },
  {
   "cell_type": "code",
   "execution_count": 190,
   "metadata": {},
   "outputs": [],
   "source": [
    "#add_exp('../data/exp.json', 'expenses')"
   ]
  },
  {
   "cell_type": "code",
   "execution_count": 191,
   "metadata": {},
   "outputs": [],
   "source": [
    "#add_exp('../data/exp.json', 'expenses')"
   ]
  },
  {
   "cell_type": "code",
   "execution_count": 192,
   "metadata": {},
   "outputs": [],
   "source": [
    "#update_exp('../data/exp.json', 'expenses')"
   ]
  },
  {
   "cell_type": "code",
   "execution_count": 193,
   "metadata": {},
   "outputs": [],
   "source": [
    "#delete_expense('../data/exp.json', 'expenses')"
   ]
  },
  {
   "attachments": {},
   "cell_type": "markdown",
   "metadata": {},
   "source": [
    "## Read from JSON into DF"
   ]
  },
  {
   "cell_type": "code",
   "execution_count": 265,
   "metadata": {},
   "outputs": [],
   "source": [
    "test_df = pd.json_normalize(pd.read_json('../data/exp.json')['expenses'])"
   ]
  },
  {
   "attachments": {},
   "cell_type": "markdown",
   "metadata": {},
   "source": [
    "### Print Active Expenses"
   ]
  },
  {
   "cell_type": "code",
   "execution_count": 266,
   "metadata": {},
   "outputs": [],
   "source": [
    "def view_expenses(df, index_col):\n",
    "    print(\"Active Expenses: \\n\")\n",
    "    if len(df) == 0:\n",
    "        print('There are no active expenses.')\n",
    "    else:\n",
    "        print(df.set_index(index_col))"
   ]
  },
  {
   "cell_type": "code",
   "execution_count": 267,
   "metadata": {},
   "outputs": [
    {
     "data": {
      "text/plain": [
       "0"
      ]
     },
     "execution_count": 267,
     "metadata": {},
     "output_type": "execute_result"
    }
   ],
   "source": [
    "len(test_df)"
   ]
  },
  {
   "cell_type": "code",
   "execution_count": 272,
   "metadata": {},
   "outputs": [
    {
     "name": "stdout",
     "output_type": "stream",
     "text": [
      "1\n"
     ]
    }
   ],
   "source": [
    "if test_df.empty == True:\n",
    "    print(1)\n",
    "else:\n",
    "    print(0)"
   ]
  },
  {
   "cell_type": "code",
   "execution_count": 268,
   "metadata": {},
   "outputs": [
    {
     "name": "stdout",
     "output_type": "stream",
     "text": [
      "Active Expenses: \n",
      "\n",
      "There are no active expenses.\n"
     ]
    }
   ],
   "source": [
    "view_expenses(test_df, 'title')"
   ]
  },
  {
   "attachments": {},
   "cell_type": "markdown",
   "metadata": {},
   "source": [
    "## Main Menu Options Test"
   ]
  },
  {
   "cell_type": "code",
   "execution_count": 200,
   "metadata": {},
   "outputs": [],
   "source": [
    "#just a test of the logic, will change field variable setting to running functions in production fiel\n",
    "\n",
    "menu_choice = valid_select(\"What function would you like to perform?:\\nA) Run Monthly Report\\nB) View Active Expenses\\nC) Add New Expense\\nD) Update Expense Item\\nE) Delete Expense\", 5)\n",
    "if menu_choice == 'A':\n",
    "    test = 'title'\n",
    "elif menu_choice == 'B':\n",
    "    test = 'cadence'\n",
    "elif menu_choice == 'C':\n",
    "    test = 'date_added'\n",
    "elif menu_choice == 'D':\n",
    "    test = 'first_due'\n",
    "elif menu_choice == 'E':\n",
    "    test = 'amount'"
   ]
  },
  {
   "cell_type": "code",
   "execution_count": 201,
   "metadata": {},
   "outputs": [
    {
     "data": {
      "text/plain": [
       "'title'"
      ]
     },
     "execution_count": 201,
     "metadata": {},
     "output_type": "execute_result"
    }
   ],
   "source": [
    "test"
   ]
  }
 ],
 "metadata": {
  "kernelspec": {
   "display_name": "ds",
   "language": "python",
   "name": "python3"
  },
  "language_info": {
   "codemirror_mode": {
    "name": "ipython",
    "version": 3
   },
   "file_extension": ".py",
   "mimetype": "text/x-python",
   "name": "python",
   "nbconvert_exporter": "python",
   "pygments_lexer": "ipython3",
   "version": "3.10.9"
  },
  "orig_nbformat": 4
 },
 "nbformat": 4,
 "nbformat_minor": 2
}
