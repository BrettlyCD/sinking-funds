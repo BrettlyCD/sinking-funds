{
 "cells": [
  {
   "attachments": {},
   "cell_type": "markdown",
   "metadata": {},
   "source": [
    "## Imports"
   ]
  },
  {
   "cell_type": "code",
   "execution_count": 55,
   "metadata": {},
   "outputs": [],
   "source": [
    "import pandas as pd\n",
    "import numpy as np\n",
    "import json\n",
    "import datetime\n",
    "from dateutil import parser\n",
    "from dateutil.relativedelta import relativedelta"
   ]
  },
  {
   "cell_type": "code",
   "execution_count": 6,
   "metadata": {},
   "outputs": [],
   "source": [
    "#Load excel data\n",
    "exp = pd.read_excel('../data/expenses_table.xlsx')"
   ]
  },
  {
   "cell_type": "code",
   "execution_count": 7,
   "metadata": {},
   "outputs": [
    {
     "data": {
      "text/html": [
       "<div>\n",
       "<style scoped>\n",
       "    .dataframe tbody tr th:only-of-type {\n",
       "        vertical-align: middle;\n",
       "    }\n",
       "\n",
       "    .dataframe tbody tr th {\n",
       "        vertical-align: top;\n",
       "    }\n",
       "\n",
       "    .dataframe thead th {\n",
       "        text-align: right;\n",
       "    }\n",
       "</style>\n",
       "<table border=\"1\" class=\"dataframe\">\n",
       "  <thead>\n",
       "    <tr style=\"text-align: right;\">\n",
       "      <th></th>\n",
       "      <th>item</th>\n",
       "      <th>cadence</th>\n",
       "      <th>date_added</th>\n",
       "      <th>first_due</th>\n",
       "      <th>amount</th>\n",
       "    </tr>\n",
       "  </thead>\n",
       "  <tbody>\n",
       "    <tr>\n",
       "      <th>0</th>\n",
       "      <td>Example (delete)</td>\n",
       "      <td>12</td>\n",
       "      <td>2023-05-27</td>\n",
       "      <td>2023-06-30</td>\n",
       "      <td>60</td>\n",
       "    </tr>\n",
       "  </tbody>\n",
       "</table>\n",
       "</div>"
      ],
      "text/plain": [
       "               item  cadence date_added  first_due  amount\n",
       "0  Example (delete)       12 2023-05-27 2023-06-30      60"
      ]
     },
     "execution_count": 7,
     "metadata": {},
     "output_type": "execute_result"
    }
   ],
   "source": [
    "exp"
   ]
  },
  {
   "cell_type": "code",
   "execution_count": 8,
   "metadata": {},
   "outputs": [
    {
     "name": "stdout",
     "output_type": "stream",
     "text": [
      "<class 'pandas.core.frame.DataFrame'>\n",
      "RangeIndex: 1 entries, 0 to 0\n",
      "Data columns (total 5 columns):\n",
      " #   Column      Non-Null Count  Dtype         \n",
      "---  ------      --------------  -----         \n",
      " 0   item        1 non-null      object        \n",
      " 1   cadence     1 non-null      int64         \n",
      " 2   date_added  1 non-null      datetime64[ns]\n",
      " 3   first_due   1 non-null      datetime64[ns]\n",
      " 4   amount      1 non-null      int64         \n",
      "dtypes: datetime64[ns](2), int64(2), object(1)\n",
      "memory usage: 168.0+ bytes\n"
     ]
    }
   ],
   "source": [
    "#Check dtypes and update if needed\n",
    "exp.info()"
   ]
  },
  {
   "attachments": {},
   "cell_type": "markdown",
   "metadata": {},
   "source": [
    "Nice! Good already.\n",
    "\n",
    "Let's now calculate the next payment date. But first i'll add a count of the tracked months for reporting purposes.\n",
    "https://stackoverflow.com/questions/30328427/add-months-to-a-datetime-column-in-pandas"
   ]
  },
  {
   "cell_type": "code",
   "execution_count": 9,
   "metadata": {},
   "outputs": [],
   "source": [
    "#create a field that calculates the month in which you should've been saving since the last disbursement\n",
    "exp['tracked_months'] = (((datetime.datetime.today().year-exp.date_added.dt.year)*12) + ((datetime.datetime.today().month-exp.date_added.dt.month))).astype(int)"
   ]
  },
  {
   "cell_type": "code",
   "execution_count": 10,
   "metadata": {},
   "outputs": [
    {
     "data": {
      "text/html": [
       "<div>\n",
       "<style scoped>\n",
       "    .dataframe tbody tr th:only-of-type {\n",
       "        vertical-align: middle;\n",
       "    }\n",
       "\n",
       "    .dataframe tbody tr th {\n",
       "        vertical-align: top;\n",
       "    }\n",
       "\n",
       "    .dataframe thead th {\n",
       "        text-align: right;\n",
       "    }\n",
       "</style>\n",
       "<table border=\"1\" class=\"dataframe\">\n",
       "  <thead>\n",
       "    <tr style=\"text-align: right;\">\n",
       "      <th></th>\n",
       "      <th>item</th>\n",
       "      <th>cadence</th>\n",
       "      <th>date_added</th>\n",
       "      <th>first_due</th>\n",
       "      <th>amount</th>\n",
       "      <th>tracked_months</th>\n",
       "    </tr>\n",
       "  </thead>\n",
       "  <tbody>\n",
       "    <tr>\n",
       "      <th>0</th>\n",
       "      <td>Example (delete)</td>\n",
       "      <td>12</td>\n",
       "      <td>2023-05-27</td>\n",
       "      <td>2023-06-30</td>\n",
       "      <td>60</td>\n",
       "      <td>1</td>\n",
       "    </tr>\n",
       "  </tbody>\n",
       "</table>\n",
       "</div>"
      ],
      "text/plain": [
       "               item  cadence date_added  first_due  amount  tracked_months\n",
       "0  Example (delete)       12 2023-05-27 2023-06-30      60               1"
      ]
     },
     "execution_count": 10,
     "metadata": {},
     "output_type": "execute_result"
    }
   ],
   "source": [
    "exp"
   ]
  },
  {
   "attachments": {},
   "cell_type": "markdown",
   "metadata": {},
   "source": [
    "### Create a Last Disbursed Date Calculation\n",
    "\n",
    "I'll do this with a while loop through each row"
   ]
  },
  {
   "cell_type": "code",
   "execution_count": 11,
   "metadata": {},
   "outputs": [],
   "source": [
    "last_paid = []\n",
    "for index, row in exp.iterrows():\n",
    "    payment_date = row['first_due']\n",
    "    if payment_date >= datetime.datetime.today():\n",
    "        last_paid.append(np.nan) \n",
    "    else:\n",
    "        #while ((datetime.datetime.today()-payment_date)/np.timedelta64(1, 'M')) > row['cadence']:\n",
    "        while (((datetime.datetime.today().year-payment_date.dt.year)*12) + ((datetime.datetime.today().month-payment_date.dt.month))) > row['cadence']:\n",
    "            payment_date += relativedelta(months=row['cadence'])\n",
    "        last_paid.append(payment_date)"
   ]
  },
  {
   "cell_type": "code",
   "execution_count": 12,
   "metadata": {},
   "outputs": [],
   "source": [
    "exp['last_disbursed']  = last_paid"
   ]
  },
  {
   "cell_type": "code",
   "execution_count": 13,
   "metadata": {},
   "outputs": [],
   "source": [
    "#update dtype to datetime for future formula usage\n",
    "exp['last_disbursed'] = pd.to_datetime(exp['last_disbursed'], format='%m,%d,%Y')"
   ]
  },
  {
   "cell_type": "code",
   "execution_count": 14,
   "metadata": {},
   "outputs": [
    {
     "data": {
      "text/html": [
       "<div>\n",
       "<style scoped>\n",
       "    .dataframe tbody tr th:only-of-type {\n",
       "        vertical-align: middle;\n",
       "    }\n",
       "\n",
       "    .dataframe tbody tr th {\n",
       "        vertical-align: top;\n",
       "    }\n",
       "\n",
       "    .dataframe thead th {\n",
       "        text-align: right;\n",
       "    }\n",
       "</style>\n",
       "<table border=\"1\" class=\"dataframe\">\n",
       "  <thead>\n",
       "    <tr style=\"text-align: right;\">\n",
       "      <th></th>\n",
       "      <th>item</th>\n",
       "      <th>cadence</th>\n",
       "      <th>date_added</th>\n",
       "      <th>first_due</th>\n",
       "      <th>amount</th>\n",
       "      <th>tracked_months</th>\n",
       "      <th>last_disbursed</th>\n",
       "    </tr>\n",
       "  </thead>\n",
       "  <tbody>\n",
       "    <tr>\n",
       "      <th>0</th>\n",
       "      <td>Example (delete)</td>\n",
       "      <td>12</td>\n",
       "      <td>2023-05-27</td>\n",
       "      <td>2023-06-30</td>\n",
       "      <td>60</td>\n",
       "      <td>1</td>\n",
       "      <td>NaT</td>\n",
       "    </tr>\n",
       "  </tbody>\n",
       "</table>\n",
       "</div>"
      ],
      "text/plain": [
       "               item  cadence date_added  first_due  amount  tracked_months  \\\n",
       "0  Example (delete)       12 2023-05-27 2023-06-30      60               1   \n",
       "\n",
       "  last_disbursed  \n",
       "0            NaT  "
      ]
     },
     "execution_count": 14,
     "metadata": {},
     "output_type": "execute_result"
    }
   ],
   "source": [
    "exp"
   ]
  },
  {
   "attachments": {},
   "cell_type": "markdown",
   "metadata": {},
   "source": [
    "### Create a Next Due Date Calculation\n",
    "\n",
    "I'll do this with a while loop through each row"
   ]
  },
  {
   "cell_type": "code",
   "execution_count": 15,
   "metadata": {},
   "outputs": [],
   "source": [
    "due_dates = []\n",
    "for index, row in exp.iterrows():\n",
    "    next_date = row['first_due']\n",
    "    while next_date < datetime.datetime.today():\n",
    "        next_date += relativedelta(months=row['cadence'])\n",
    "    due_dates.append(next_date)"
   ]
  },
  {
   "cell_type": "code",
   "execution_count": 16,
   "metadata": {},
   "outputs": [],
   "source": [
    "exp['due_next'] = due_dates"
   ]
  },
  {
   "cell_type": "code",
   "execution_count": 17,
   "metadata": {},
   "outputs": [
    {
     "data": {
      "text/html": [
       "<div>\n",
       "<style scoped>\n",
       "    .dataframe tbody tr th:only-of-type {\n",
       "        vertical-align: middle;\n",
       "    }\n",
       "\n",
       "    .dataframe tbody tr th {\n",
       "        vertical-align: top;\n",
       "    }\n",
       "\n",
       "    .dataframe thead th {\n",
       "        text-align: right;\n",
       "    }\n",
       "</style>\n",
       "<table border=\"1\" class=\"dataframe\">\n",
       "  <thead>\n",
       "    <tr style=\"text-align: right;\">\n",
       "      <th></th>\n",
       "      <th>item</th>\n",
       "      <th>cadence</th>\n",
       "      <th>date_added</th>\n",
       "      <th>first_due</th>\n",
       "      <th>amount</th>\n",
       "      <th>tracked_months</th>\n",
       "      <th>last_disbursed</th>\n",
       "      <th>due_next</th>\n",
       "    </tr>\n",
       "  </thead>\n",
       "  <tbody>\n",
       "    <tr>\n",
       "      <th>0</th>\n",
       "      <td>Example (delete)</td>\n",
       "      <td>12</td>\n",
       "      <td>2023-05-27</td>\n",
       "      <td>2023-06-30</td>\n",
       "      <td>60</td>\n",
       "      <td>1</td>\n",
       "      <td>NaT</td>\n",
       "      <td>2023-06-30</td>\n",
       "    </tr>\n",
       "  </tbody>\n",
       "</table>\n",
       "</div>"
      ],
      "text/plain": [
       "               item  cadence date_added  first_due  amount  tracked_months  \\\n",
       "0  Example (delete)       12 2023-05-27 2023-06-30      60               1   \n",
       "\n",
       "  last_disbursed   due_next  \n",
       "0            NaT 2023-06-30  "
      ]
     },
     "execution_count": 17,
     "metadata": {},
     "output_type": "execute_result"
    }
   ],
   "source": [
    "exp"
   ]
  },
  {
   "attachments": {},
   "cell_type": "markdown",
   "metadata": {},
   "source": [
    "Now I'll calculate the months between next payment"
   ]
  },
  {
   "cell_type": "code",
   "execution_count": 18,
   "metadata": {},
   "outputs": [],
   "source": [
    "#exp['months_till_due'] = ((exp.due_next - datetime.datetime.today())/np.timedelta64(1, 'M')+1).astype(int)\n",
    "exp['months_till_due'] = (((exp.due_next.dt.year-exp.date_added.dt.year)*12) + ((exp.due_next.dt.month-exp.date_added.dt.month))).astype(int)"
   ]
  },
  {
   "cell_type": "code",
   "execution_count": 19,
   "metadata": {},
   "outputs": [
    {
     "data": {
      "text/html": [
       "<div>\n",
       "<style scoped>\n",
       "    .dataframe tbody tr th:only-of-type {\n",
       "        vertical-align: middle;\n",
       "    }\n",
       "\n",
       "    .dataframe tbody tr th {\n",
       "        vertical-align: top;\n",
       "    }\n",
       "\n",
       "    .dataframe thead th {\n",
       "        text-align: right;\n",
       "    }\n",
       "</style>\n",
       "<table border=\"1\" class=\"dataframe\">\n",
       "  <thead>\n",
       "    <tr style=\"text-align: right;\">\n",
       "      <th></th>\n",
       "      <th>item</th>\n",
       "      <th>cadence</th>\n",
       "      <th>date_added</th>\n",
       "      <th>first_due</th>\n",
       "      <th>amount</th>\n",
       "      <th>tracked_months</th>\n",
       "      <th>last_disbursed</th>\n",
       "      <th>due_next</th>\n",
       "      <th>months_till_due</th>\n",
       "    </tr>\n",
       "  </thead>\n",
       "  <tbody>\n",
       "    <tr>\n",
       "      <th>0</th>\n",
       "      <td>Example (delete)</td>\n",
       "      <td>12</td>\n",
       "      <td>2023-05-27</td>\n",
       "      <td>2023-06-30</td>\n",
       "      <td>60</td>\n",
       "      <td>1</td>\n",
       "      <td>NaT</td>\n",
       "      <td>2023-06-30</td>\n",
       "      <td>1</td>\n",
       "    </tr>\n",
       "  </tbody>\n",
       "</table>\n",
       "</div>"
      ],
      "text/plain": [
       "               item  cadence date_added  first_due  amount  tracked_months  \\\n",
       "0  Example (delete)       12 2023-05-27 2023-06-30      60               1   \n",
       "\n",
       "  last_disbursed   due_next  months_till_due  \n",
       "0            NaT 2023-06-30                1  "
      ]
     },
     "execution_count": 19,
     "metadata": {},
     "output_type": "execute_result"
    }
   ],
   "source": [
    "exp"
   ]
  },
  {
   "attachments": {},
   "cell_type": "markdown",
   "metadata": {},
   "source": [
    "Now calculate the monthly savings. There will be a differnce though for the items in which we save for the whole cadence vs. those we add with less time than the cadence. so I'll flag it if we have a full 12 months (as an example) to save vs. only 3 months left of the 12 in which we started saving. I think we need a \"months to save\" field"
   ]
  },
  {
   "cell_type": "code",
   "execution_count": 20,
   "metadata": {},
   "outputs": [],
   "source": [
    "#updating this to not if false use months till due, but to the lesser of the cadence or the recalculated months from starting tracking to having to pay. Adding +1 to include the starting month.\n",
    "exp['months_to_save'] = np.where(exp['tracked_months'] >= exp['cadence'], exp['cadence'], (((exp.due_next.dt.year-exp.date_added.dt.year)*12) + ((exp.due_next.dt.month-exp.date_added.dt.month))+1).astype(int))"
   ]
  },
  {
   "cell_type": "code",
   "execution_count": 21,
   "metadata": {},
   "outputs": [
    {
     "data": {
      "text/html": [
       "<div>\n",
       "<style scoped>\n",
       "    .dataframe tbody tr th:only-of-type {\n",
       "        vertical-align: middle;\n",
       "    }\n",
       "\n",
       "    .dataframe tbody tr th {\n",
       "        vertical-align: top;\n",
       "    }\n",
       "\n",
       "    .dataframe thead th {\n",
       "        text-align: right;\n",
       "    }\n",
       "</style>\n",
       "<table border=\"1\" class=\"dataframe\">\n",
       "  <thead>\n",
       "    <tr style=\"text-align: right;\">\n",
       "      <th></th>\n",
       "      <th>item</th>\n",
       "      <th>cadence</th>\n",
       "      <th>date_added</th>\n",
       "      <th>first_due</th>\n",
       "      <th>amount</th>\n",
       "      <th>tracked_months</th>\n",
       "      <th>last_disbursed</th>\n",
       "      <th>due_next</th>\n",
       "      <th>months_till_due</th>\n",
       "      <th>months_to_save</th>\n",
       "    </tr>\n",
       "  </thead>\n",
       "  <tbody>\n",
       "    <tr>\n",
       "      <th>0</th>\n",
       "      <td>Example (delete)</td>\n",
       "      <td>12</td>\n",
       "      <td>2023-05-27</td>\n",
       "      <td>2023-06-30</td>\n",
       "      <td>60</td>\n",
       "      <td>1</td>\n",
       "      <td>NaT</td>\n",
       "      <td>2023-06-30</td>\n",
       "      <td>1</td>\n",
       "      <td>2</td>\n",
       "    </tr>\n",
       "  </tbody>\n",
       "</table>\n",
       "</div>"
      ],
      "text/plain": [
       "               item  cadence date_added  first_due  amount  tracked_months  \\\n",
       "0  Example (delete)       12 2023-05-27 2023-06-30      60               1   \n",
       "\n",
       "  last_disbursed   due_next  months_till_due  months_to_save  \n",
       "0            NaT 2023-06-30                1               2  "
      ]
     },
     "execution_count": 21,
     "metadata": {},
     "output_type": "execute_result"
    }
   ],
   "source": [
    "exp"
   ]
  },
  {
   "cell_type": "code",
   "execution_count": 22,
   "metadata": {},
   "outputs": [],
   "source": [
    "exp['monthly_sinking'] = round(exp['amount'] / exp['months_to_save'],2)\n",
    "exp.replace([np.inf, -np.inf], np.nan, inplace=True)"
   ]
  },
  {
   "cell_type": "code",
   "execution_count": 23,
   "metadata": {},
   "outputs": [
    {
     "data": {
      "text/html": [
       "<div>\n",
       "<style scoped>\n",
       "    .dataframe tbody tr th:only-of-type {\n",
       "        vertical-align: middle;\n",
       "    }\n",
       "\n",
       "    .dataframe tbody tr th {\n",
       "        vertical-align: top;\n",
       "    }\n",
       "\n",
       "    .dataframe thead th {\n",
       "        text-align: right;\n",
       "    }\n",
       "</style>\n",
       "<table border=\"1\" class=\"dataframe\">\n",
       "  <thead>\n",
       "    <tr style=\"text-align: right;\">\n",
       "      <th></th>\n",
       "      <th>item</th>\n",
       "      <th>cadence</th>\n",
       "      <th>date_added</th>\n",
       "      <th>first_due</th>\n",
       "      <th>amount</th>\n",
       "      <th>tracked_months</th>\n",
       "      <th>last_disbursed</th>\n",
       "      <th>due_next</th>\n",
       "      <th>months_till_due</th>\n",
       "      <th>months_to_save</th>\n",
       "      <th>monthly_sinking</th>\n",
       "    </tr>\n",
       "  </thead>\n",
       "  <tbody>\n",
       "    <tr>\n",
       "      <th>0</th>\n",
       "      <td>Example (delete)</td>\n",
       "      <td>12</td>\n",
       "      <td>2023-05-27</td>\n",
       "      <td>2023-06-30</td>\n",
       "      <td>60</td>\n",
       "      <td>1</td>\n",
       "      <td>NaT</td>\n",
       "      <td>2023-06-30</td>\n",
       "      <td>1</td>\n",
       "      <td>2</td>\n",
       "      <td>30.0</td>\n",
       "    </tr>\n",
       "  </tbody>\n",
       "</table>\n",
       "</div>"
      ],
      "text/plain": [
       "               item  cadence date_added  first_due  amount  tracked_months  \\\n",
       "0  Example (delete)       12 2023-05-27 2023-06-30      60               1   \n",
       "\n",
       "  last_disbursed   due_next  months_till_due  months_to_save  monthly_sinking  \n",
       "0            NaT 2023-06-30                1               2             30.0  "
      ]
     },
     "execution_count": 23,
     "metadata": {},
     "output_type": "execute_result"
    }
   ],
   "source": [
    "exp"
   ]
  },
  {
   "attachments": {},
   "cell_type": "markdown",
   "metadata": {},
   "source": [
    "Now I need to come up with a formula that calculates how much should be saved after your deposit this month based on how many months you should've saved since the last disbursement (or since you started tracking if no disbursement yet.)\n"
   ]
  },
  {
   "cell_type": "code",
   "execution_count": 24,
   "metadata": {},
   "outputs": [],
   "source": [
    "#exp['current_buildup'] = np.where(exp['last_disbursed'] == 0, exp['tracked_months'], ((datetime.datetime.today()-exp.last_disbursed)/np.timedelta64(1, 'M')))\n",
    "exp['current_buildup'] = np.where(exp['last_disbursed'].isnull(), exp['tracked_months'], (((datetime.datetime.today().year-exp.last_disbursed.dt.year)*12) + ((datetime.datetime.today().month-exp.last_disbursed.dt.month))))"
   ]
  },
  {
   "cell_type": "code",
   "execution_count": 25,
   "metadata": {},
   "outputs": [],
   "source": [
    "#convert to an integer format so it will round down to get the exact # of months.\n",
    "#using fillna here to make it possible to convert if there are any NaNs\n",
    "exp['current_buildup'] = exp['current_buildup'].fillna(0).astype(int)\n"
   ]
  },
  {
   "cell_type": "code",
   "execution_count": 26,
   "metadata": {},
   "outputs": [
    {
     "data": {
      "text/html": [
       "<div>\n",
       "<style scoped>\n",
       "    .dataframe tbody tr th:only-of-type {\n",
       "        vertical-align: middle;\n",
       "    }\n",
       "\n",
       "    .dataframe tbody tr th {\n",
       "        vertical-align: top;\n",
       "    }\n",
       "\n",
       "    .dataframe thead th {\n",
       "        text-align: right;\n",
       "    }\n",
       "</style>\n",
       "<table border=\"1\" class=\"dataframe\">\n",
       "  <thead>\n",
       "    <tr style=\"text-align: right;\">\n",
       "      <th></th>\n",
       "      <th>item</th>\n",
       "      <th>cadence</th>\n",
       "      <th>date_added</th>\n",
       "      <th>first_due</th>\n",
       "      <th>amount</th>\n",
       "      <th>tracked_months</th>\n",
       "      <th>last_disbursed</th>\n",
       "      <th>due_next</th>\n",
       "      <th>months_till_due</th>\n",
       "      <th>months_to_save</th>\n",
       "      <th>monthly_sinking</th>\n",
       "      <th>current_buildup</th>\n",
       "    </tr>\n",
       "  </thead>\n",
       "  <tbody>\n",
       "    <tr>\n",
       "      <th>0</th>\n",
       "      <td>Example (delete)</td>\n",
       "      <td>12</td>\n",
       "      <td>2023-05-27</td>\n",
       "      <td>2023-06-30</td>\n",
       "      <td>60</td>\n",
       "      <td>1</td>\n",
       "      <td>NaT</td>\n",
       "      <td>2023-06-30</td>\n",
       "      <td>1</td>\n",
       "      <td>2</td>\n",
       "      <td>30.0</td>\n",
       "      <td>1</td>\n",
       "    </tr>\n",
       "  </tbody>\n",
       "</table>\n",
       "</div>"
      ],
      "text/plain": [
       "               item  cadence date_added  first_due  amount  tracked_months  \\\n",
       "0  Example (delete)       12 2023-05-27 2023-06-30      60               1   \n",
       "\n",
       "  last_disbursed   due_next  months_till_due  months_to_save  monthly_sinking  \\\n",
       "0            NaT 2023-06-30                1               2             30.0   \n",
       "\n",
       "   current_buildup  \n",
       "0                1  "
      ]
     },
     "execution_count": 26,
     "metadata": {},
     "output_type": "execute_result"
    }
   ],
   "source": [
    "exp"
   ]
  },
  {
   "attachments": {},
   "cell_type": "markdown",
   "metadata": {},
   "source": [
    "Now we know how many months of savings we should have done since our last disbursement in each category so let's calculate what the total balance should be as of the last transfer to savings. I'll then calculate a final balance after transfer."
   ]
  },
  {
   "cell_type": "code",
   "execution_count": 27,
   "metadata": {},
   "outputs": [],
   "source": [
    "exp['exp_current_balance'] = exp['current_buildup'] * exp['monthly_sinking']"
   ]
  },
  {
   "cell_type": "code",
   "execution_count": 28,
   "metadata": {},
   "outputs": [
    {
     "data": {
      "text/html": [
       "<div>\n",
       "<style scoped>\n",
       "    .dataframe tbody tr th:only-of-type {\n",
       "        vertical-align: middle;\n",
       "    }\n",
       "\n",
       "    .dataframe tbody tr th {\n",
       "        vertical-align: top;\n",
       "    }\n",
       "\n",
       "    .dataframe thead th {\n",
       "        text-align: right;\n",
       "    }\n",
       "</style>\n",
       "<table border=\"1\" class=\"dataframe\">\n",
       "  <thead>\n",
       "    <tr style=\"text-align: right;\">\n",
       "      <th></th>\n",
       "      <th>item</th>\n",
       "      <th>cadence</th>\n",
       "      <th>date_added</th>\n",
       "      <th>first_due</th>\n",
       "      <th>amount</th>\n",
       "      <th>tracked_months</th>\n",
       "      <th>last_disbursed</th>\n",
       "      <th>due_next</th>\n",
       "      <th>months_till_due</th>\n",
       "      <th>months_to_save</th>\n",
       "      <th>monthly_sinking</th>\n",
       "      <th>current_buildup</th>\n",
       "      <th>exp_current_balance</th>\n",
       "    </tr>\n",
       "  </thead>\n",
       "  <tbody>\n",
       "    <tr>\n",
       "      <th>0</th>\n",
       "      <td>Example (delete)</td>\n",
       "      <td>12</td>\n",
       "      <td>2023-05-27</td>\n",
       "      <td>2023-06-30</td>\n",
       "      <td>60</td>\n",
       "      <td>1</td>\n",
       "      <td>NaT</td>\n",
       "      <td>2023-06-30</td>\n",
       "      <td>1</td>\n",
       "      <td>2</td>\n",
       "      <td>30.0</td>\n",
       "      <td>1</td>\n",
       "      <td>30.0</td>\n",
       "    </tr>\n",
       "  </tbody>\n",
       "</table>\n",
       "</div>"
      ],
      "text/plain": [
       "               item  cadence date_added  first_due  amount  tracked_months  \\\n",
       "0  Example (delete)       12 2023-05-27 2023-06-30      60               1   \n",
       "\n",
       "  last_disbursed   due_next  months_till_due  months_to_save  monthly_sinking  \\\n",
       "0            NaT 2023-06-30                1               2             30.0   \n",
       "\n",
       "   current_buildup  exp_current_balance  \n",
       "0                1                 30.0  "
      ]
     },
     "execution_count": 28,
     "metadata": {},
     "output_type": "execute_result"
    }
   ],
   "source": [
    "exp"
   ]
  },
  {
   "attachments": {},
   "cell_type": "markdown",
   "metadata": {},
   "source": [
    "Now that that's there, I want to create a column that calculates the disbursement (if there is one in the current month) as a negative value. I'll then combine that into a 'final_target' with expected_savings + monthly_needed - disbursement = final value."
   ]
  },
  {
   "cell_type": "code",
   "execution_count": 29,
   "metadata": {},
   "outputs": [],
   "source": [
    "exp['current_period_disburse'] = np.where((exp['due_next'].dt.month == datetime.datetime.today().month) & (exp['due_next'].dt.year == datetime.datetime.today().year), -exp['amount'], 0)"
   ]
  },
  {
   "cell_type": "code",
   "execution_count": 30,
   "metadata": {},
   "outputs": [
    {
     "data": {
      "text/html": [
       "<div>\n",
       "<style scoped>\n",
       "    .dataframe tbody tr th:only-of-type {\n",
       "        vertical-align: middle;\n",
       "    }\n",
       "\n",
       "    .dataframe tbody tr th {\n",
       "        vertical-align: top;\n",
       "    }\n",
       "\n",
       "    .dataframe thead th {\n",
       "        text-align: right;\n",
       "    }\n",
       "</style>\n",
       "<table border=\"1\" class=\"dataframe\">\n",
       "  <thead>\n",
       "    <tr style=\"text-align: right;\">\n",
       "      <th></th>\n",
       "      <th>item</th>\n",
       "      <th>cadence</th>\n",
       "      <th>date_added</th>\n",
       "      <th>first_due</th>\n",
       "      <th>amount</th>\n",
       "      <th>tracked_months</th>\n",
       "      <th>last_disbursed</th>\n",
       "      <th>due_next</th>\n",
       "      <th>months_till_due</th>\n",
       "      <th>months_to_save</th>\n",
       "      <th>monthly_sinking</th>\n",
       "      <th>current_buildup</th>\n",
       "      <th>exp_current_balance</th>\n",
       "      <th>current_period_disburse</th>\n",
       "    </tr>\n",
       "  </thead>\n",
       "  <tbody>\n",
       "    <tr>\n",
       "      <th>0</th>\n",
       "      <td>Example (delete)</td>\n",
       "      <td>12</td>\n",
       "      <td>2023-05-27</td>\n",
       "      <td>2023-06-30</td>\n",
       "      <td>60</td>\n",
       "      <td>1</td>\n",
       "      <td>NaT</td>\n",
       "      <td>2023-06-30</td>\n",
       "      <td>1</td>\n",
       "      <td>2</td>\n",
       "      <td>30.0</td>\n",
       "      <td>1</td>\n",
       "      <td>30.0</td>\n",
       "      <td>-60</td>\n",
       "    </tr>\n",
       "  </tbody>\n",
       "</table>\n",
       "</div>"
      ],
      "text/plain": [
       "               item  cadence date_added  first_due  amount  tracked_months  \\\n",
       "0  Example (delete)       12 2023-05-27 2023-06-30      60               1   \n",
       "\n",
       "  last_disbursed   due_next  months_till_due  months_to_save  monthly_sinking  \\\n",
       "0            NaT 2023-06-30                1               2             30.0   \n",
       "\n",
       "   current_buildup  exp_current_balance  current_period_disburse  \n",
       "0                1                 30.0                      -60  "
      ]
     },
     "execution_count": 30,
     "metadata": {},
     "output_type": "execute_result"
    }
   ],
   "source": [
    "exp"
   ]
  },
  {
   "cell_type": "code",
   "execution_count": 31,
   "metadata": {},
   "outputs": [],
   "source": [
    "#sweet! Now I'll calculate the target ending balance\n",
    "exp['target_ending_balance'] = exp['exp_current_balance'] + exp['monthly_sinking'] + exp['current_period_disburse']"
   ]
  },
  {
   "cell_type": "code",
   "execution_count": 32,
   "metadata": {},
   "outputs": [
    {
     "data": {
      "text/html": [
       "<div>\n",
       "<style scoped>\n",
       "    .dataframe tbody tr th:only-of-type {\n",
       "        vertical-align: middle;\n",
       "    }\n",
       "\n",
       "    .dataframe tbody tr th {\n",
       "        vertical-align: top;\n",
       "    }\n",
       "\n",
       "    .dataframe thead th {\n",
       "        text-align: right;\n",
       "    }\n",
       "</style>\n",
       "<table border=\"1\" class=\"dataframe\">\n",
       "  <thead>\n",
       "    <tr style=\"text-align: right;\">\n",
       "      <th></th>\n",
       "      <th>item</th>\n",
       "      <th>cadence</th>\n",
       "      <th>date_added</th>\n",
       "      <th>first_due</th>\n",
       "      <th>amount</th>\n",
       "      <th>tracked_months</th>\n",
       "      <th>last_disbursed</th>\n",
       "      <th>due_next</th>\n",
       "      <th>months_till_due</th>\n",
       "      <th>months_to_save</th>\n",
       "      <th>monthly_sinking</th>\n",
       "      <th>current_buildup</th>\n",
       "      <th>exp_current_balance</th>\n",
       "      <th>current_period_disburse</th>\n",
       "      <th>target_ending_balance</th>\n",
       "    </tr>\n",
       "  </thead>\n",
       "  <tbody>\n",
       "    <tr>\n",
       "      <th>0</th>\n",
       "      <td>Example (delete)</td>\n",
       "      <td>12</td>\n",
       "      <td>2023-05-27</td>\n",
       "      <td>2023-06-30</td>\n",
       "      <td>60</td>\n",
       "      <td>1</td>\n",
       "      <td>NaT</td>\n",
       "      <td>2023-06-30</td>\n",
       "      <td>1</td>\n",
       "      <td>2</td>\n",
       "      <td>30.0</td>\n",
       "      <td>1</td>\n",
       "      <td>30.0</td>\n",
       "      <td>-60</td>\n",
       "      <td>0.0</td>\n",
       "    </tr>\n",
       "  </tbody>\n",
       "</table>\n",
       "</div>"
      ],
      "text/plain": [
       "               item  cadence date_added  first_due  amount  tracked_months  \\\n",
       "0  Example (delete)       12 2023-05-27 2023-06-30      60               1   \n",
       "\n",
       "  last_disbursed   due_next  months_till_due  months_to_save  monthly_sinking  \\\n",
       "0            NaT 2023-06-30                1               2             30.0   \n",
       "\n",
       "   current_buildup  exp_current_balance  current_period_disburse  \\\n",
       "0                1                 30.0                      -60   \n",
       "\n",
       "   target_ending_balance  \n",
       "0                    0.0  "
      ]
     },
     "execution_count": 32,
     "metadata": {},
     "output_type": "execute_result"
    }
   ],
   "source": [
    "exp"
   ]
  },
  {
   "cell_type": "code",
   "execution_count": 33,
   "metadata": {},
   "outputs": [],
   "source": [
    "#one more column for indiviual item activity\n",
    "exp['current_month_activity'] = exp['target_ending_balance'] - exp['exp_current_balance']"
   ]
  },
  {
   "cell_type": "code",
   "execution_count": 34,
   "metadata": {},
   "outputs": [
    {
     "data": {
      "text/html": [
       "<div>\n",
       "<style scoped>\n",
       "    .dataframe tbody tr th:only-of-type {\n",
       "        vertical-align: middle;\n",
       "    }\n",
       "\n",
       "    .dataframe tbody tr th {\n",
       "        vertical-align: top;\n",
       "    }\n",
       "\n",
       "    .dataframe thead th {\n",
       "        text-align: right;\n",
       "    }\n",
       "</style>\n",
       "<table border=\"1\" class=\"dataframe\">\n",
       "  <thead>\n",
       "    <tr style=\"text-align: right;\">\n",
       "      <th></th>\n",
       "      <th>item</th>\n",
       "      <th>cadence</th>\n",
       "      <th>date_added</th>\n",
       "      <th>first_due</th>\n",
       "      <th>amount</th>\n",
       "      <th>tracked_months</th>\n",
       "      <th>last_disbursed</th>\n",
       "      <th>due_next</th>\n",
       "      <th>months_till_due</th>\n",
       "      <th>months_to_save</th>\n",
       "      <th>monthly_sinking</th>\n",
       "      <th>current_buildup</th>\n",
       "      <th>exp_current_balance</th>\n",
       "      <th>current_period_disburse</th>\n",
       "      <th>target_ending_balance</th>\n",
       "      <th>current_month_activity</th>\n",
       "    </tr>\n",
       "  </thead>\n",
       "  <tbody>\n",
       "    <tr>\n",
       "      <th>0</th>\n",
       "      <td>Example (delete)</td>\n",
       "      <td>12</td>\n",
       "      <td>2023-05-27</td>\n",
       "      <td>2023-06-30</td>\n",
       "      <td>60</td>\n",
       "      <td>1</td>\n",
       "      <td>NaT</td>\n",
       "      <td>2023-06-30</td>\n",
       "      <td>1</td>\n",
       "      <td>2</td>\n",
       "      <td>30.0</td>\n",
       "      <td>1</td>\n",
       "      <td>30.0</td>\n",
       "      <td>-60</td>\n",
       "      <td>0.0</td>\n",
       "      <td>-30.0</td>\n",
       "    </tr>\n",
       "  </tbody>\n",
       "</table>\n",
       "</div>"
      ],
      "text/plain": [
       "               item  cadence date_added  first_due  amount  tracked_months  \\\n",
       "0  Example (delete)       12 2023-05-27 2023-06-30      60               1   \n",
       "\n",
       "  last_disbursed   due_next  months_till_due  months_to_save  monthly_sinking  \\\n",
       "0            NaT 2023-06-30                1               2             30.0   \n",
       "\n",
       "   current_buildup  exp_current_balance  current_period_disburse  \\\n",
       "0                1                 30.0                      -60   \n",
       "\n",
       "   target_ending_balance  current_month_activity  \n",
       "0                    0.0                   -30.0  "
      ]
     },
     "execution_count": 34,
     "metadata": {},
     "output_type": "execute_result"
    }
   ],
   "source": [
    "exp"
   ]
  },
  {
   "attachments": {},
   "cell_type": "markdown",
   "metadata": {},
   "source": []
  },
  {
   "attachments": {},
   "cell_type": "markdown",
   "metadata": {},
   "source": [
    "### Aggregation Steps\n",
    "\n",
    "Now that we have that all built out, we need some formulas that calculate the aggregate totals, and give some output to users after taking some inputs."
   ]
  },
  {
   "cell_type": "code",
   "execution_count": 35,
   "metadata": {},
   "outputs": [],
   "source": [
    "#I want a copy of this with a new cooler name\n",
    "sinking_funds = exp.copy()"
   ]
  },
  {
   "attachments": {},
   "cell_type": "markdown",
   "metadata": {},
   "source": [
    "### Add ability to say which bills are due this month."
   ]
  },
  {
   "cell_type": "code",
   "execution_count": 36,
   "metadata": {},
   "outputs": [],
   "source": [
    "due_this_month = sinking_funds[sinking_funds['current_period_disburse'] < 0][['item','due_next','amount']]"
   ]
  },
  {
   "cell_type": "code",
   "execution_count": 37,
   "metadata": {},
   "outputs": [],
   "source": [
    "due_dictionary = due_this_month.set_index('item').T.to_dict('list')"
   ]
  },
  {
   "cell_type": "code",
   "execution_count": 38,
   "metadata": {},
   "outputs": [
    {
     "data": {
      "text/plain": [
       "{'Example (delete)': [Timestamp('2023-06-30 00:00:00'), 60]}"
      ]
     },
     "execution_count": 38,
     "metadata": {},
     "output_type": "execute_result"
    }
   ],
   "source": [
    "due_dictionary"
   ]
  },
  {
   "cell_type": "code",
   "execution_count": 39,
   "metadata": {},
   "outputs": [
    {
     "name": "stdout",
     "output_type": "stream",
     "text": [
      "Example (delete) is due on 06-30-2023 : $ 60.00\n"
     ]
    }
   ],
   "source": [
    "for key, value in due_dictionary.items():\n",
    "    print(key, 'is due on', value[0].strftime('%m-%d-%Y'), ': $', str(\"{:.2f}\".format(value[1])))"
   ]
  },
  {
   "attachments": {},
   "cell_type": "markdown",
   "metadata": {},
   "source": [
    "### Setup way for user input of their actual current balance.\n",
    "\n",
    "This comes in handy when there is interest building up. That is a little bit less you have to save. Or for times in which you fall behind by a couple of months."
   ]
  },
  {
   "cell_type": "code",
   "execution_count": 40,
   "metadata": {},
   "outputs": [],
   "source": [
    "#define a function to check for a valid float input\n",
    "def valid_float(message):\n",
    "    while True:\n",
    "        try:\n",
    "            count = float(input(message))\n",
    "            if count >= 0:\n",
    "                return count\n",
    "                break\n",
    "        except:\n",
    "            print('You must input a numerical value.\\n' + message)"
   ]
  },
  {
   "cell_type": "code",
   "execution_count": 41,
   "metadata": {},
   "outputs": [],
   "source": [
    "actual_beg_balance = valid_float(\"Enter Current Sinking Funds Balance: \")"
   ]
  },
  {
   "attachments": {},
   "cell_type": "markdown",
   "metadata": {},
   "source": [
    "### Create Calculated Features and Setup Test Prints"
   ]
  },
  {
   "cell_type": "code",
   "execution_count": 42,
   "metadata": {},
   "outputs": [],
   "source": [
    "expected_beginning_balance = sinking_funds['exp_current_balance'].sum()\n",
    "current_period_savings = sinking_funds['monthly_sinking'].sum()\n",
    "current_period_disbursements = sinking_funds['current_period_disburse'].sum()\n",
    "net_period_activity = sinking_funds['current_month_activity'].sum()\n",
    "target_ending_balance = sinking_funds['target_ending_balance'].sum()\n",
    "actual_period_activity = target_ending_balance - actual_beg_balance\n",
    "balance_adj = expected_beginning_balance - actual_beg_balance"
   ]
  },
  {
   "cell_type": "code",
   "execution_count": 43,
   "metadata": {},
   "outputs": [
    {
     "name": "stdout",
     "output_type": "stream",
     "text": [
      "You're expected current balance is: $30.00.\n",
      "You're actual current balance is: $0.00.\n",
      "\n",
      "------------------------------\n",
      "You should move $0.00 from your checking account to your sinking funds balance.\n",
      "This is made up of: \n",
      "- $30.00 savings for future expenses\n",
      "- $60.00 of disbursements for current month expense\n",
      "- $30.00 of balance adjustments.\n",
      "\n",
      "------------------------------\n",
      "With these changes, your target ending balance will be: $0.00.\n"
     ]
    }
   ],
   "source": [
    "print(\"You're expected current balance is: $\" + str(\"{:.2f}\".format(expected_beginning_balance)) + \".\")\n",
    "print(\"You're actual current balance is: $\" + str(\"{:.2f}\".format(actual_beg_balance)) + \".\\n\")\n",
    "print('---'*10)\n",
    "if actual_period_activity < 0:\n",
    "    print(\"You should move $\" + str(\"{:.2f}\".format(-actual_period_activity)) + \" from your sinking funds balance to your bill-paying account.\")\n",
    "else:\n",
    "    print(\"You should move $\" + str(\"{:.2f}\".format(actual_period_activity)) + \" from your checking account to your sinking funds balance.\")\n",
    "print(\"This is made up of: \\n- $\" + str(\"{:.2f}\".format(current_period_savings)) + \" savings for future expenses\\n- $\" + str(\"{:.2f}\".format(-current_period_disbursements)) + \" of disbursements for current month expense\\n- $\"+ str(\"{:.2f}\".format(balance_adj)) + \" of balance adjustments.\\n\")\n",
    "print('---'*10)\n",
    "\n",
    "print(\"With these changes, your target ending balance will be: $\" + str(\"{:.2f}\".format(target_ending_balance)) + \".\")\n"
   ]
  },
  {
   "cell_type": "code",
   "execution_count": 44,
   "metadata": {},
   "outputs": [
    {
     "name": "stdout",
     "output_type": "stream",
     "text": [
      "-----USER SUMMARY-----\n"
     ]
    }
   ],
   "source": [
    "print(\"-\"*5 + \"USER SUMMARY\" + \"-\"*5)"
   ]
  },
  {
   "attachments": {},
   "cell_type": "markdown",
   "metadata": {},
   "source": [
    "# V2 Testing\n",
    "I want to remove excel from the equation and actually have this read/write from/to a json file. To do this we'll need to write functions for adding and removing records using user inputs.\n",
    "\n",
    "Might pivot to a sqllite database for this. If I do go json, I either need to update the key and then have a subset with teh data. or have the title in the full layer with all the data and be able to add another line to this.\n"
   ]
  },
  {
   "cell_type": "code",
   "execution_count": 45,
   "metadata": {},
   "outputs": [],
   "source": [
    "#establish possible inputs and alert\n",
    "input_options = ['A','B','C','D']\n",
    "alert = \"Option not available.\""
   ]
  },
  {
   "cell_type": "code",
   "execution_count": 50,
   "metadata": {},
   "outputs": [],
   "source": [
    "def valid_select(message, n_choices):\n",
    "    \"\"\"Function for testing valid user input.\"\"\"\n",
    "    while True:\n",
    "        try:\n",
    "            answer = input(message).upper()\n",
    "            if answer in input_options[:n_choices]:\n",
    "                return answer\n",
    "                break\n",
    "            else:\n",
    "                print(alert + ' Try again: ')\n",
    "        except:\n",
    "            print(alert + ' Try again: ')"
   ]
  },
  {
   "cell_type": "code",
   "execution_count": 54,
   "metadata": {},
   "outputs": [
    {
     "data": {
      "text/plain": [
       "'A'"
      ]
     },
     "execution_count": 54,
     "metadata": {},
     "output_type": "execute_result"
    }
   ],
   "source": [
    "valid_select(\"What would you like to do?\\nA) View Current Month Report\\nB) Add New Expense\\nC) Delete an Expense\", 4)"
   ]
  },
  {
   "attachments": {},
   "cell_type": "markdown",
   "metadata": {},
   "source": [
    "## Define Adding a new record\n",
    "\n",
    "We'll need to first check if the selection exists, and then adjust from there."
   ]
  },
  {
   "cell_type": "code",
   "execution_count": 81,
   "metadata": {},
   "outputs": [],
   "source": []
  },
  {
   "attachments": {},
   "cell_type": "markdown",
   "metadata": {},
   "source": [
    "### Test specifc reading"
   ]
  },
  {
   "cell_type": "code",
   "execution_count": 84,
   "metadata": {},
   "outputs": [
    {
     "data": {
      "text/plain": [
       "[{'title': 'Costco',\n",
       "  'cadence': '12',\n",
       "  'date_added': '5/27/2023',\n",
       "  'first_due': '6/30/2023',\n",
       "  'amount': '60'}]"
      ]
     },
     "execution_count": 84,
     "metadata": {},
     "output_type": "execute_result"
    }
   ],
   "source": [
    "#test reading\n",
    "with open('../data/exp.json', 'r') as f:\n",
    "    data = json.load(f)\n",
    "\n",
    "[item for item in data['expenses'] if item['title'] == 'Costco']"
   ]
  },
  {
   "attachments": {},
   "cell_type": "markdown",
   "metadata": {},
   "source": [
    "Might be able to use this code to get specific items\n",
    "[d for d in a if d['name'] == 'pluto']\n",
    "\n",
    "\n",
    "https://stackoverflow.com/questions/4391697/find-the-index-of-a-dict-within-a-list-by-matching-the-dicts-value"
   ]
  },
  {
   "attachments": {},
   "cell_type": "markdown",
   "metadata": {},
   "source": [
    "### Test Writing New Object"
   ]
  },
  {
   "cell_type": "code",
   "execution_count": null,
   "metadata": {},
   "outputs": [],
   "source": [
    "#sample varible with new entry\n",
    "new_entry = {'title': 'Xmas Gifts',\n",
    " 'cadence': '12',\n",
    " 'date_added': '5/27/2023',\n",
    " 'first_due': '12/31/2023',\n",
    " 'amount': '600'}"
   ]
  },
  {
   "cell_type": "code",
   "execution_count": 95,
   "metadata": {},
   "outputs": [],
   "source": [
    "#test writing to json\n",
    "with open('../data/exp.json') as f:\n",
    "            data = json.load(f)\n",
    "            temp = data[\"expenses\"]\n",
    "            temp.append(new_entry)\n",
    "            with open('../data/exp.json', 'w') as f:\n",
    "                json.dump(data, f)"
   ]
  },
  {
   "cell_type": "code",
   "execution_count": 100,
   "metadata": {},
   "outputs": [
    {
     "data": {
      "text/plain": [
       "[{'title': 'Costco',\n",
       "  'cadence': '12',\n",
       "  'date_added': '5/27/2023',\n",
       "  'first_due': '6/30/2023',\n",
       "  'amount': '60'},\n",
       " {'title': 'CC Fee',\n",
       "  'cadence': '12',\n",
       "  'date_added': '5/27/2023',\n",
       "  'first_due': '10/31/2023',\n",
       "  'amount': '95'},\n",
       " {'title': 'Xmas Gifts',\n",
       "  'cadence': '12',\n",
       "  'date_added': '5/27/2023',\n",
       "  'first_due': '12/31/2023',\n",
       "  'amount': '600'}]"
      ]
     },
     "execution_count": 100,
     "metadata": {},
     "output_type": "execute_result"
    }
   ],
   "source": [
    "#read updates\n",
    "with open('../data/exp.json', 'r') as f:\n",
    "    data = json.load(f)\n",
    "    temp = data['expenses']\n",
    "\n",
    "temp"
   ]
  },
  {
   "attachments": {},
   "cell_type": "markdown",
   "metadata": {},
   "source": [
    "### Test updating specific value\n",
    "As a test we'll update our Xmas Gift fund to $500 instead of $600."
   ]
  },
  {
   "cell_type": "code",
   "execution_count": 102,
   "metadata": {},
   "outputs": [
    {
     "data": {
      "text/plain": [
       "2"
      ]
     },
     "execution_count": 102,
     "metadata": {},
     "output_type": "execute_result"
    }
   ],
   "source": [
    "#finding index #\n",
    "with open('../data/exp.json', 'r') as f:\n",
    "    data = json.load(f)\n",
    "    temp = data['expenses']\n",
    "    index = next((index for (index, d) in enumerate(temp) if d['title'] == 'Xmas Gifts'), None)\n",
    "\n",
    "index"
   ]
  },
  {
   "cell_type": "code",
   "execution_count": 105,
   "metadata": {},
   "outputs": [],
   "source": [
    "#test saving down index # and writing to\n",
    "with open('../data/exp.json') as f:\n",
    "            data = json.load(f)\n",
    "            temp = data[\"expenses\"]\n",
    "            index = next((index for (index, d) in enumerate(temp) if d['title'] == 'Xmas Gifts'), None)\n",
    "            temp[index]['amount'] = 500\n",
    "            with open('../data/exp.json', 'w') as f:\n",
    "                json.dump(data, f)"
   ]
  },
  {
   "cell_type": "code",
   "execution_count": 106,
   "metadata": {},
   "outputs": [
    {
     "data": {
      "text/plain": [
       "[{'title': 'Costco',\n",
       "  'cadence': '12',\n",
       "  'date_added': '5/27/2023',\n",
       "  'first_due': '6/30/2023',\n",
       "  'amount': '60'},\n",
       " {'title': 'CC Fee',\n",
       "  'cadence': '12',\n",
       "  'date_added': '5/27/2023',\n",
       "  'first_due': '10/31/2023',\n",
       "  'amount': '95'},\n",
       " {'title': 'Xmas Gifts',\n",
       "  'cadence': '12',\n",
       "  'date_added': '5/27/2023',\n",
       "  'first_due': '12/31/2023',\n",
       "  'amount': 500}]"
      ]
     },
     "execution_count": 106,
     "metadata": {},
     "output_type": "execute_result"
    }
   ],
   "source": [
    "#view if that worked\n",
    "#read updates\n",
    "with open('../data/exp.json', 'r') as f:\n",
    "    data = json.load(f)\n",
    "    temp = data['expenses']\n",
    "\n",
    "temp"
   ]
  },
  {
   "attachments": {},
   "cell_type": "markdown",
   "metadata": {},
   "source": [
    "### Test Deleting Item"
   ]
  }
 ],
 "metadata": {
  "kernelspec": {
   "display_name": "ds",
   "language": "python",
   "name": "python3"
  },
  "language_info": {
   "codemirror_mode": {
    "name": "ipython",
    "version": 3
   },
   "file_extension": ".py",
   "mimetype": "text/x-python",
   "name": "python",
   "nbconvert_exporter": "python",
   "pygments_lexer": "ipython3",
   "version": "3.10.9"
  },
  "orig_nbformat": 4
 },
 "nbformat": 4,
 "nbformat_minor": 2
}
